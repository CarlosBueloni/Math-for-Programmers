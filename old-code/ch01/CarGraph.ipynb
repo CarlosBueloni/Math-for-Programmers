{
 "cells": [
  {
   "cell_type": "code",
   "execution_count": 1,
   "metadata": {},
   "outputs": [],
   "source": [
    "csv_text = \"\"\"Year,Miles,Price,undefined\n",
    "2015,41429,16980,2018-10-25T13:40:36.074Z\n",
    ",n/a,25580,2018-11-04T18:03:27.000Z\n",
    "2013,n/a,2013,2018-11-16T19:46:48.000Z\n",
    "2016,89173,15973,2018-10-25T13:40:35.880Z\n",
    "2016,n/a,19980,2018-08-15T17:38:08.000Z\n",
    "2011,65000,9900,2018-11-16T19:27:40.000Z\n",
    "2013,60601,15998,2018-10-25T13:39:43.310Z\n",
    "2017,n/a,25790,2018-08-10T17:02:29.000Z\n",
    "2004,123000,3900,2018-11-16T19:22:11.000Z\n",
    "2011,62000,12540,2018-10-25T13:38:48.644Z\n",
    "2016,n/a,19980,2018-08-08T17:33:00.000Z\n",
    "2006,n/a,2800,2018-11-16T19:09:30.000Z\n",
    "2016,25782,21688,2018-10-25T13:38:36.116Z\n",
    "2013,n/a,15530,2018-08-08T17:02:41.000Z\n",
    "2008,n/a,7495,2018-11-16T19:01:38.000Z\n",
    "2015,9000,17086,2018-10-25T13:38:10.524Z\n",
    "2015,n/a,17580,2018-08-03T17:02:31.000Z\n",
    "2009,n/a,6995,2018-11-16T19:00:47.000Z\n",
    "2010,5000,7990,2018-10-25T13:37:44.183Z\n",
    "2016,n/a,20380,2018-07-25T17:22:47.000Z\n",
    ",17000,23000,2018-11-16T18:52:36.000Z\n",
    "2010,131045,8900,2018-10-25T13:37:13.350Z\n",
    "2017,n/a,25780,2018-07-25T17:02:24.000Z\n",
    "2007,247000,3875,2018-11-16T18:50:46.000Z\n",
    "2012,92699,10500,2018-10-25T13:36:53.572Z\n",
    "2012,n/a,16980,2018-07-19T17:13:07.000Z\n",
    ",172000,3500,2018-11-16T18:46:33.000Z\n",
    "2002,26000,3477,2018-10-25T13:36:16.119Z\n",
    "2012,n/a,16980,2018-07-05T17:02:47.000Z\n",
    "2010,n/a,2010,2018-11-16T18:45:50.000Z\n",
    "2018,100000,26992,2018-10-25T13:35:49.059Z\n",
    "2015,n/a,17800,2018-06-05T17:01:02.000Z\n",
    "2012,n/a,13995,2018-11-16T18:45:43.000Z\n",
    "2015,100000,17249,2018-10-25T13:35:45.764Z\n",
    ",n/a,22100,2018-05-31T18:14:13.000Z\n",
    "2010,n/a,7800,2018-11-16T18:45:40.000Z\n",
    "2015,28000,19627,2018-10-25T13:35:43.712Z\n",
    "2015,n/a,18050,2018-05-29T17:02:59.000Z\n",
    "2015,30,10970,2018-11-16T18:43:33.000Z\n",
    "2011,123773,9450,2018-10-25T13:35:16.987Z\n",
    "2015,n/a,18300,2018-05-16T17:06:22.000Z\n",
    "2004,196000,3000,2018-11-16T18:39:37.000Z\n",
    "2015,73397,14999,2018-10-25T13:34:31.289Z\n",
    "2015,n/a,18500,2018-05-09T17:01:15.000Z\n",
    "2014,n/a,10900,2018-11-16T18:31:26.000Z\n",
    "2016,21178,24990,2018-10-25T13:34:25.679Z\n",
    ",n/a,16169,2018-03-07T01:23:58.000Z\n",
    "2008,n/a,5400,2018-11-16T18:28:18.000Z\n",
    "2010,129886,7967,2018-10-25T13:34:07.951Z\n",
    ",n/a,16730,2018-01-26T01:54:49.000Z\n",
    "2007,n/a,2441,2018-11-16T18:27:08.000Z\n",
    "2014,7000,14083,2018-10-25T13:33:40.195Z\n",
    ",n/a,16480,2018-01-19T01:32:54.000Z\n",
    "2011,n/a,11280,2018-11-16T18:00:55.000Z\n",
    "2009,109884,7257,2018-10-25T13:33:37.192Z\n",
    ",n/a,15457,2018-01-13T00:19:15.000Z\n",
    "2008,169000,4799,2018-11-16T17:55:13.000Z\n",
    "2014,60000,13982,2018-10-25T13:33:33.508Z\n",
    ",n/a,16230,2018-01-12T01:24:48.000Z\n",
    "2006,129000,5299,2018-11-16T17:54:38.000Z\n",
    "2015,81936,14310,2018-10-25T13:31:52.577Z\n",
    ",n/a,18980,2017-11-04T20:54:57.000Z\n",
    "2011,105000,7800,2018-11-16T17:51:40.000Z\n",
    "2013,80713,12250,2018-10-25T13:31:18.595Z\n",
    "2016,n/a,25230,2017-11-03T23:00:00.000Z\n",
    ",17000,23000,2018-11-16T17:50:01.000Z\n",
    "2015,250,16400,2018-10-25T13:30:38.507Z\n",
    ",n/a,25980,2017-10-28T15:30:00.000Z\n",
    "2010,n/a,4900,2018-11-16T17:47:48.000Z\n",
    "2015,100000,14686,2018-10-25T13:30:38.314Z\n",
    ",n/a,16480,2017-10-25T20:34:00.000Z\n",
    "2013,n/a,16495,2018-11-16T17:45:33.000Z\n",
    "2010,156097,7495,2018-10-25T13:30:37.822Z\n",
    ",n/a,27480,2017-10-06T21:30:00.000Z\n",
    "2007,n/a,4914,2018-11-16T17:45:19.000Z\n",
    "2015,n/a,16495,2018-11-16T17:36:17.000Z\n",
    "2008,n/a,4500,2018-11-16T17:33:31.000Z\n",
    "2010,170000,4950,2018-11-16T17:15:56.000Z\n",
    "2005,186,3749,2018-11-16T17:10:25.000Z\n",
    "2010,n/a,6499,2018-11-16T17:07:49.000Z\n",
    "2015,n/a,12900,2018-11-16T17:04:21.000Z\n",
    "2012,n/a,12999,2018-11-16T17:02:10.000Z\n",
    "2015,n/a,9995,2018-11-16T17:00:35.000Z\n",
    "2009,167000,3500,2018-11-16T16:58:45.000Z\n",
    "2010,n/a,6000,2018-11-16T16:57:27.000Z\n",
    "2008,n/a,5800,2018-11-16T16:02:41.000Z\n",
    "2010,56000,11999,2018-11-16T16:01:57.000Z\n",
    "2005,n/a,2750,2018-11-16T15:53:52.000Z\n",
    ",n/a,5500,2018-11-16T15:50:45.000Z\n",
    ",n/a,10000,2018-11-16T15:50:02.000Z\n",
    "2012,113000,9600,2018-11-16T15:40:17.000Z\n",
    "2007,n/a,5400,2018-11-16T15:27:58.000Z\n",
    ",199000,1999,2018-11-16T15:26:29.000Z\n",
    "2010,n/a,7934,2018-11-16T15:05:47.000Z\n",
    "2013,n/a,2013,2018-11-16T15:04:31.000Z\n",
    ",n/a,3800,2018-11-16T15:03:11.000Z\n",
    "2005,n/a,3300,2018-11-16T15:01:19.000Z\n",
    "2005,96000,4300,2018-11-16T14:45:49.000Z\n",
    "2005,216000,3500,2018-11-16T14:43:50.000Z\n",
    "2007,203000,4200,2018-11-16T14:41:42.000Z\"\"\""
   ]
  },
  {
   "cell_type": "code",
   "execution_count": 2,
   "metadata": {},
   "outputs": [],
   "source": [
    "import csv\n",
    "from datetime import datetime, timedelta\n",
    "import numpy as np\n",
    "import matplotlib.pyplot as plt\n",
    "day = timedelta(days=1)"
   ]
  },
  {
   "cell_type": "code",
   "execution_count": 3,
   "metadata": {},
   "outputs": [],
   "source": [
    "r = list(csv.reader(csv_text.split('\\n')))"
   ]
  },
  {
   "cell_type": "code",
   "execution_count": 4,
   "metadata": {},
   "outputs": [],
   "source": [
    "rows = [(row[0], row[1], row[2], (datetime.now() - datetime.strptime(row[3],\"%Y-%m-%dT%H:%M:%S.%fZ\")) / day) for row in r[1:]]"
   ]
  },
  {
   "cell_type": "code",
   "execution_count": 5,
   "metadata": {},
   "outputs": [
    {
     "data": {
      "text/plain": [
       "[('2015', '41429', '16980', 597.8784402469097),\n",
       " ('', 'n/a', '25580', 587.6959063873379),\n",
       " ('2013', 'n/a', '2013', 575.624135554213),\n",
       " ('2016', '89173', '15973', 597.8784424987963),\n",
       " ('2016', 'n/a', '19980', 668.7134874063311),\n",
       " ('2011', '65000', '9900', 575.6374225916435),\n",
       " ('2013', '60601', '15998', 597.8790509482408),\n",
       " ('2017', 'n/a', '25790', 673.7382443511343),\n",
       " ('2004', '123000', '3900', 575.6412304623611),\n",
       " ('2011', '62000', '12540', 597.8796836569213),\n",
       " ('2016', 'n/a', '19980', 675.7170522218519),\n",
       " ('2006', 'n/a', '2800', 575.6500383330787),\n",
       " ('2016', '25782', '21688', 597.8798286572569),\n",
       " ('2013', 'n/a', '15530', 675.7381054629283),\n",
       " ('2008', 'n/a', '7495', 575.6555012963773),\n",
       " ('2015', '9000', '17086', 597.8801248612963),\n",
       " ('2015', 'n/a', '17580', 680.7382212040046),\n",
       " ('2009', 'n/a', '6995', 575.6560915744792),\n",
       " ('2010', '5000', '7990', 597.8804297343171),\n",
       " ('2016', 'n/a', '20380', 689.7241471302547),\n",
       " ('', '17000', '23000', 575.6617744451852),\n",
       " ('2010', '131045', '8900', 597.8807865980672),\n",
       " ('2017', 'n/a', '25780', 689.7383022231828),\n",
       " ('2007', '247000', '3875', 575.6630475936574),\n",
       " ('2012', '92699', '10500', 597.8810155104283),\n",
       " ('2012', 'n/a', '16980', 695.7308600938774),\n",
       " ('', '172000', '3500', 575.6659758347222),\n",
       " ('2002', '26000', '3477', 597.8814489945602),\n",
       " ('2012', 'n/a', '16980', 709.7380360201273),\n",
       " ('2010', 'n/a', '2010', 575.666473520243),\n",
       " ('2018', '100000', '26992', 597.8817621893287),\n",
       " ('2015', 'n/a', '17800', 739.7392512982408),\n",
       " ('2012', 'n/a', '13995', 575.6665545390856),\n",
       " ('2015', '100000', '17249', 597.8818003262385),\n",
       " ('', 'n/a', '22100', 744.6884295393055),\n",
       " ('2010', 'n/a', '7800', 575.6665892616435),\n",
       " ('2015', '28000', '19627', 597.8818240765625),\n",
       " ('2015', 'n/a', '18050', 746.7378971322338),\n",
       " ('2015', '30', '10970', 575.668059169375),\n",
       " ('2011', '123773', '9450', 597.8821333940163),\n",
       " ('2015', 'n/a', '18300', 759.7355475955209),\n",
       " ('2004', '196000', '3000', 575.6707906511921),\n",
       " ('2015', '73397', '14999', 597.8826623063889),\n",
       " ('2015', 'n/a', '18500', 766.7391008365856),\n",
       " ('2014', 'n/a', '10900', 575.6764735218866),\n",
       " ('2016', '21178', '24990', 597.8827272372686),\n",
       " ('', 'n/a', '16169', 830.389992040625),\n",
       " ('2008', 'n/a', '5400', 575.6786494481365),\n",
       " ('2010', '129886', '7967', 597.8829324227894),\n",
       " ('', 'n/a', '16730', 870.368568429838),\n",
       " ('2007', 'n/a', '2441', 575.6794596336574),\n",
       " ('2014', '7000', '14083', 597.8832536731135),\n",
       " ('', 'n/a', '16480', 877.383788337581),\n",
       " ('2011', 'n/a', '11280', 575.6976656525115),\n",
       " ('2009', '109884', '7257', 597.8832884303935),\n",
       " ('', 'n/a', '15457', 883.43493417125),\n",
       " ('2008', '169000', '4799', 575.701623986169),\n",
       " ('2014', '60000', '13982', 597.8833310696181),\n",
       " ('', 'n/a', '16230', 884.3894133382523),\n",
       " ('2006', '129000', '5299', 575.7020290790972),\n",
       " ('2015', '81936', '14310', 597.8844992528241),\n",
       " ('', 'n/a', '18980', 952.5768091719212),\n",
       " ('2011', '105000', '7800', 575.704089264618),\n",
       " ('2013', '80713', '12250', 597.8848925633449),\n",
       " ('2016', 'n/a', '25230', 953.4899688944676),\n",
       " ('', '17000', '23000', 575.7052350982755),\n",
       " ('2015', '250', '16400', 597.8853565451504),\n",
       " ('', 'n/a', '25980', 959.8024688947917),\n",
       " ('2010', 'n/a', '4900', 575.706774450463),\n",
       " ('2015', '100000', '14686', 597.8853587792709),\n",
       " ('', 'n/a', '16480', 962.5913577840162),\n",
       " ('2013', 'n/a', '16495', 575.708336950787),\n",
       " ('2010', '156097', '7495', 597.8853644740509),\n",
       " ('', 'n/a', '27480', 981.5524688954514),\n",
       " ('2007', 'n/a', '4914', 575.7084989881597),\n",
       " ('2015', 'n/a', '16495', 575.7147721364121),\n",
       " ('2008', 'n/a', '4500', 575.7166934328241),\n",
       " ('2010', '170000', '4950', 575.7289040810764),\n",
       " ('2005', '186', '3749', 575.7327350997107),\n",
       " ('2010', 'n/a', '6499', 575.7345406553703),\n",
       " ('2015', 'n/a', '12900', 575.7369480628935),\n",
       " ('2012', 'n/a', '12999', 575.7384642667014),\n",
       " ('2015', 'n/a', '9995', 575.7395638038425),\n",
       " ('2009', '167000', '3500', 575.7408369521065),\n",
       " ('2010', 'n/a', '6000', 575.7417397299885),\n",
       " ('2008', 'n/a', '5800', 575.7797721375116),\n",
       " ('2010', '56000', '11999', 575.780281396875),\n",
       " ('2005', 'n/a', '2750', 575.7858948229167),\n",
       " ('', 'n/a', '5500', 575.7880591748727),\n",
       " ('', 'n/a', '10000', 575.7885568601736),\n",
       " ('2012', '113000', '9600', 575.7953276936227),\n",
       " ('2007', 'n/a', '5400', 575.8038809344675),\n",
       " ('', '199000', '1999', 575.8049110271644),\n",
       " ('2010', 'n/a', '7934', 575.8192860272801),\n",
       " ('2013', 'n/a', '2013', 575.820165657014),\n",
       " ('', 'n/a', '3800', 575.8210915830556),\n",
       " ('2005', 'n/a', '3300', 575.8223878794561),\n",
       " ('2005', '96000', '4300', 575.8331517684607),\n",
       " ('2005', '216000', '3500', 575.8345290833796),\n",
       " ('2007', '203000', '4200', 575.8360105649652)]"
      ]
     },
     "execution_count": 5,
     "metadata": {},
     "output_type": "execute_result"
    }
   ],
   "source": [
    "rows"
   ]
  },
  {
   "cell_type": "code",
   "execution_count": 6,
   "metadata": {},
   "outputs": [],
   "source": [
    "def try_float(s):\n",
    "    try:\n",
    "        return float(s)\n",
    "    except:\n",
    "        return None\n",
    "years = [try_float(row[0]) for row in rows]"
   ]
  },
  {
   "cell_type": "code",
   "execution_count": 7,
   "metadata": {},
   "outputs": [],
   "source": [
    "mileages = [try_float(row[1]) for row in rows]\n"
   ]
  },
  {
   "cell_type": "code",
   "execution_count": 8,
   "metadata": {},
   "outputs": [],
   "source": [
    "prices = [try_float(row[2]) for row in rows]\n",
    "from math import log\n",
    "\n",
    "ln_prices = [log(x) if x else None for x in prices]"
   ]
  },
  {
   "cell_type": "code",
   "execution_count": 9,
   "metadata": {},
   "outputs": [],
   "source": [
    "days_on_market = [try_float(row[3]) for row in rows]"
   ]
  },
  {
   "cell_type": "code",
   "execution_count": 10,
   "metadata": {},
   "outputs": [],
   "source": [
    "def valid_pairs(xs,ys):\n",
    "    return [(x,y) for (x,y) in zip(xs,ys) if x and y]"
   ]
  },
  {
   "cell_type": "code",
   "execution_count": 11,
   "metadata": {},
   "outputs": [
    {
     "data": {
      "text/plain": [
       "39"
      ]
     },
     "execution_count": 11,
     "metadata": {},
     "output_type": "execute_result"
    }
   ],
   "source": [
    "without_outliers = [(m,p) for (m,p) in valid_pairs(mileages,prices) if p/20000. + m/50000. > 1.]\n",
    "len(without_outliers)"
   ]
  },
  {
   "cell_type": "code",
   "execution_count": 12,
   "metadata": {},
   "outputs": [],
   "source": [
    "a = np.array(without_outliers)"
   ]
  },
  {
   "cell_type": "code",
   "execution_count": 13,
   "metadata": {},
   "outputs": [],
   "source": [
    "from numpy import log, exp\n",
    "from scipy import stats"
   ]
  },
  {
   "cell_type": "code",
   "execution_count": 14,
   "metadata": {},
   "outputs": [],
   "source": [
    "bestfit = stats.linregress(a[:,0],log(a[:,1]))"
   ]
  },
  {
   "cell_type": "code",
   "execution_count": 15,
   "metadata": {},
   "outputs": [
    {
     "data": {
      "text/plain": [
       "0.9052627915777799"
      ]
     },
     "execution_count": 15,
     "metadata": {},
     "output_type": "execute_result"
    }
   ],
   "source": [
    "base = exp(-9.953e-06)\n",
    "base ** 10000"
   ]
  },
  {
   "cell_type": "code",
   "execution_count": 16,
   "metadata": {},
   "outputs": [],
   "source": [
    "#f = lambda x : exp(bestfit.slope * x + bestfit.intercept)\n",
    "# f = lambda x : 26500 * exp(-9.953e-06 * x)\n",
    "def p(m): \n",
    "    return 26500 * (0.905 ** m)\n",
    "# (bestfit.slope, exp(bestfit.intercept))"
   ]
  },
  {
   "cell_type": "code",
   "execution_count": 21,
   "metadata": {},
   "outputs": [
    {
     "name": "stdout",
     "output_type": "stream",
     "text": [
      "[4.1429, 8.9173, 6.5, 6.0601, 12.3, 6.2, 2.5782, 0.9, 1.7, 13.1045, 24.7, 9.2699, 17.2, 10.0, 10.0, 2.8, 12.3773, 19.6, 7.3397, 2.1178, 12.9886, 10.9884, 16.9, 6.0, 12.9, 8.1936, 10.5, 8.0713, 1.7, 10.0, 15.6097, 17.0, 16.7, 5.6, 11.3, 19.9, 9.6, 21.6, 20.3]\n"
     ]
    }
   ],
   "source": [
    "mileages = [m/10000 for m in list(zip(*without_outliers))[0]]\n",
    "print(mileages)\n",
    "prices = list(zip(*without_outliers))[1]"
   ]
  },
  {
   "cell_type": "code",
   "execution_count": 25,
   "metadata": {},
   "outputs": [
    {
     "data": {
      "text/plain": [
       "'16980.0, 15973.0, 9900.0, 15998.0, 3900.0, 12540.0, 21688.0, 17086.0, 23000.0, 8900.0, 3875.0, 10500.0, 3500.0, 26992.0, 17249.0, 19627.0, 9450.0, 3000.0, 14999.0, 24990.0, 7967.0, 7257.0, 4799.0, 13982.0, 5299.0, 14310.0, 7800.0, 12250.0, 23000.0, 14686.0, 7495.0, 4950.0, 3500.0, 11999.0, 9600.0, 1999.0, 4300.0, 3500.0, 4200.0'"
      ]
     },
     "execution_count": 25,
     "metadata": {},
     "output_type": "execute_result"
    }
   ],
   "source": [
    "\", \".join([str(p) for p in prices])"
   ]
  },
  {
   "cell_type": "code",
   "execution_count": 27,
   "metadata": {},
   "outputs": [],
   "source": [
    "mileages = [4.1429, 8.9173, 6.5, 6.0601, 12.3, 6.2, 2.5782, 0.9, 1.7, 13.1045, 24.7, 9.2699, 17.2, 10.0, 10.0, 2.8, 12.3773, 19.6, 7.3397, 2.1178, 12.9886, 10.9884, 16.9, 6.0, 12.9, 8.1936, 10.5, 8.0713, 1.7, 10.0, 15.6097, 17.0, 16.7, 5.6, 11.3, 19.9, 9.6, 21.6, 20.3]"
   ]
  },
  {
   "cell_type": "code",
   "execution_count": 28,
   "metadata": {},
   "outputs": [],
   "source": [
    "prices = [16980.0, 15973.0, 9900.0, 15998.0, 3900.0, 12540.0, 21688.0, 17086.0, 23000.0, 8900.0, 3875.0, 10500.0, 3500.0, 26992.0, 17249.0, 19627.0, 9450.0, 3000.0, 14999.0, 24990.0, 7967.0, 7257.0, 4799.0, 13982.0, 5299.0, 14310.0, 7800.0, 12250.0, 23000.0, 14686.0, 7495.0, 4950.0, 3500.0, 11999.0, 9600.0, 1999.0, 4300.0, 3500.0, 4200.0]"
   ]
  },
  {
   "cell_type": "code",
   "execution_count": 29,
   "metadata": {
    "scrolled": true
   },
   "outputs": [
    {
     "data": {
      "image/png": "[encoded data removed]",
      "text/plain": [
       "<Figure size 432x288 with 1 Axes>"
      ]
     },
     "metadata": {
      "needs_background": "light"
     },
     "output_type": "display_data"
    }
   ],
   "source": [
    "\n",
    "\n",
    "xs = np.linspace(0,25,100)\n",
    "ys = [p(x) for x in xs]\n",
    "\n",
    "plt.scatter(mileages,prices) \n",
    "plt.plot(xs,ys, color='C1')\n",
    "plt.xlabel('Mileage (10,000s of miles)')\n",
    "plt.ylabel('Price ($)')\n",
    "plt.savefig('fig1.5.svg')"
   ]
  },
  {
   "cell_type": "code",
   "execution_count": 18,
   "metadata": {},
   "outputs": [
    {
     "ename": "NameError",
     "evalue": "name 'f' is not defined",
     "output_type": "error",
     "traceback": [
      "\u001b[0;31m---------------------------------------------------------------------------\u001b[0m",
      "\u001b[0;31mNameError\u001b[0m                                 Traceback (most recent call last)",
      "\u001b[0;32m<ipython-input-18-7439fc72171d>\u001b[0m in \u001b[0;36m<module>\u001b[0;34m\u001b[0m\n\u001b[0;32m----> 1\u001b[0;31m \u001b[0mprice\u001b[0m \u001b[0;34m=\u001b[0m \u001b[0mf\u001b[0m\u001b[0;34m\u001b[0m\u001b[0;34m\u001b[0m\u001b[0m\n\u001b[0m",
      "\u001b[0;31mNameError\u001b[0m: name 'f' is not defined"
     ]
    }
   ],
   "source": [
    "price = f"
   ]
  },
  {
   "cell_type": "code",
   "execution_count": 19,
   "metadata": {},
   "outputs": [
    {
     "ename": "NameError",
     "evalue": "name 'price' is not defined",
     "output_type": "error",
     "traceback": [
      "\u001b[0;31m---------------------------------------------------------------------------\u001b[0m",
      "\u001b[0;31mNameError\u001b[0m                                 Traceback (most recent call last)",
      "\u001b[0;32m<ipython-input-19-c04296d14e1e>\u001b[0m in \u001b[0;36m<module>\u001b[0;34m\u001b[0m\n\u001b[0;32m----> 1\u001b[0;31m \u001b[0mprice\u001b[0m\u001b[0;34m(\u001b[0m\u001b[0;36m0\u001b[0m\u001b[0;34m)\u001b[0m \u001b[0;34m-\u001b[0m \u001b[0mprice\u001b[0m\u001b[0;34m(\u001b[0m\u001b[0;36m50000\u001b[0m\u001b[0;34m)\u001b[0m\u001b[0;34m\u001b[0m\u001b[0;34m\u001b[0m\u001b[0m\n\u001b[0m",
      "\u001b[0;31mNameError\u001b[0m: name 'price' is not defined"
     ]
    }
   ],
   "source": [
    "price(0) - price(50000)"
   ]
  },
  {
   "cell_type": "code",
   "execution_count": 20,
   "metadata": {},
   "outputs": [
    {
     "ename": "NameError",
     "evalue": "name 'price' is not defined",
     "output_type": "error",
     "traceback": [
      "\u001b[0;31m---------------------------------------------------------------------------\u001b[0m",
      "\u001b[0;31mNameError\u001b[0m                                 Traceback (most recent call last)",
      "\u001b[0;32m<ipython-input-20-c8ab443fe8dc>\u001b[0m in \u001b[0;36m<module>\u001b[0;34m\u001b[0m\n\u001b[0;32m----> 1\u001b[0;31m \u001b[0mprice\u001b[0m\u001b[0;34m(\u001b[0m\u001b[0;36m50000\u001b[0m\u001b[0;34m)\u001b[0m \u001b[0;34m-\u001b[0m \u001b[0mprice\u001b[0m\u001b[0;34m(\u001b[0m\u001b[0;36m100000\u001b[0m\u001b[0;34m)\u001b[0m\u001b[0;34m\u001b[0m\u001b[0;34m\u001b[0m\u001b[0m\n\u001b[0m",
      "\u001b[0;31mNameError\u001b[0m: name 'price' is not defined"
     ]
    }
   ],
   "source": [
    "price(50000) - price(100000)"
   ]
  },
  {
   "cell_type": "code",
   "execution_count": null,
   "metadata": {},
   "outputs": [],
   "source": []
  },
  {
   "cell_type": "code",
   "execution_count": null,
   "metadata": {},
   "outputs": [],
   "source": []
  }
 ],
 "metadata": {
  "kernelspec": {
   "display_name": "Python 3",
   "language": "python",
   "name": "python3"
  },
  "language_info": {
   "codemirror_mode": {
    "name": "ipython",
    "version": 3
   },
   "file_extension": ".py",
   "mimetype": "text/x-python",
   "name": "python",
   "nbconvert_exporter": "python",
   "pygments_lexer": "ipython3",
   "version": "3.7.3"
  }
 },
 "nbformat": 4,
 "nbformat_minor": 2
}
