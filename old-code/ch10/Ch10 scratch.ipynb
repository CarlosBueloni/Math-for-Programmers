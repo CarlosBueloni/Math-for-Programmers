{
 "cells": [
  {
   "cell_type": "code",
   "execution_count": 12,
   "metadata": {},
   "outputs": [],
   "source": [
    "from abc import ABC, abstractmethod\n",
    "import math\n",
    "\n",
    "def paren_if_instance(exp,*args):\n",
    "    for typ in args:\n",
    "        if isinstance(exp,typ):\n",
    "            return \"\\\\left( {} \\\\right)\".format(exp.latex())\n",
    "    return exp.latex()\n",
    "\n",
    "def package(maybe_expression):\n",
    "    if isinstance(maybe_expression,Expression):\n",
    "        return maybe_expression\n",
    "    elif isinstance(maybe_expression,int) or isinstance(maybe_expression,float):\n",
    "        return Number(maybe_expression)\n",
    "    else:\n",
    "        raise ValueError(\"can't convert {} to expression.\".format(maybe_expression))\n",
    "def dot_if_necessary(latex):\n",
    "    if latex[0] in '-1234567890':\n",
    "        return '\\\\cdot {}'.format(latex)\n",
    "    else:\n",
    "        return latex\n",
    "        \n",
    "class Expression(ABC):\n",
    "    @abstractmethod\n",
    "    def latex(self):\n",
    "        pass\n",
    "    def _repr_latex_(self):\n",
    "        return \"$$\" + self.latex() + \"$$\"\n",
    "    @abstractmethod\n",
    "    def evaluate(self, **bindings):\n",
    "        pass\n",
    "    @abstractmethod\n",
    "    def substitute(self, var, expression):\n",
    "        pass\n",
    "    @abstractmethod\n",
    "    def expand(self):\n",
    "        pass\n",
    "    @abstractmethod\n",
    "    def display(self):\n",
    "        pass\n",
    "    def __repr__(self):\n",
    "        return self.display()\n",
    "    @abstractmethod\n",
    "    def derivative(self,var):\n",
    "        pass\n",
    "    \n",
    "    def __call__(self, *inputs):\n",
    "        var_list = sorted(distinct_variables(self))\n",
    "        return self.evaluate(**dict(zip(var_list, inputs)))\n",
    "    \n",
    "    def __add__(self, other):\n",
    "        return Sum(self,package(other))\n",
    "    \n",
    "    def __sub__(self,other):\n",
    "        return Difference(self,package(other))\n",
    "    \n",
    "    def __mul__(self,other):\n",
    "        return Product(self,package(other))\n",
    "    \n",
    "    def __rmul__(self,other):\n",
    "        return Product(package(other),self)\n",
    "    \n",
    "    def __truediv__(self,other):\n",
    "        return Quotient(self,package(other))\n",
    "    \n",
    "    def __pow__(self,other):\n",
    "        return Power(self,package(other))\n",
    "    \n",
    "    @abstractmethod\n",
    "    def _python_expr(self):\n",
    "        pass\n",
    "    \n",
    "    def python_function(self,**bindings):\n",
    "#         code = \"lambda {}:{}\".format(\n",
    "#             \", \".join(sorted(distinct_variables(self))),\n",
    "#             self._python_expr())\n",
    "#         print(code)\n",
    "        global_vars = {\"math\":math}\n",
    "        return eval(self._python_expr(),global_vars,bindings)\n",
    "\n",
    "class Sum(Expression):\n",
    "    def __init__(self, *exps):\n",
    "        self.exps = exps\n",
    "    def latex(self):\n",
    "        return \" + \".join(exp.latex() for exp in self.exps)\n",
    "    def evaluate(self, **bindings):\n",
    "        return sum([exp.evaluate(**bindings) for exp in self.exps])\n",
    "    def expand(self):\n",
    "        return Sum(*[exp.expand() for exp in self.exps])\n",
    "    def display(self):\n",
    "        return \"Sum({})\".format(\",\".join([e.display() for e in self.exps]))\n",
    "    def derivative(self, var):\n",
    "        return Sum(*[exp.derivative(var) for exp in self.exps])\n",
    "    def substitute(self, var, new):\n",
    "        return Sum(*[exp.substitute(var,new) for exp in self.exps])\n",
    "    def _python_expr(self):\n",
    "        return \"+\".join(\"({})\".format(exp._python_expr()) for exp in self.exps)\n",
    "    \n",
    "class Product(Expression):\n",
    "    def __init__(self, exp1, exp2):\n",
    "        self.exp1 = exp1\n",
    "        self.exp2 = exp2\n",
    "    def latex(self):\n",
    "        return \"{}{}\".format(\n",
    "            paren_if_instance(self.exp1,Sum,Negative,Difference),\n",
    "            dot_if_necessary(paren_if_instance(self.exp2,Sum,Negative,Difference)))\n",
    "    def evaluate(self, **bindings):\n",
    "        return self.exp1.evaluate(**bindings) * self.exp2.evaluate(**bindings)\n",
    "    def expand(self):\n",
    "        expanded1 = self.exp1.expand()\n",
    "        expanded2 = self.exp2.expand()\n",
    "        if isinstance(expanded1, Sum):\n",
    "            return Sum(*[Product(e,expanded2).expand() for e in expanded1.exps])\n",
    "        elif isinstance(expanded2, Sum):\n",
    "            return Sum(*[Product(expanded1,e) for e in expanded2.exps])\n",
    "        else:\n",
    "            return Product(expanded1,expanded2)\n",
    "        \n",
    "    def display(self):\n",
    "        return \"Product({},{})\".format(self.exp1.display(),self.exp2.display())\n",
    "    \n",
    "    def derivative(self,var):\n",
    "        if not contains(self.exp1, var):\n",
    "            return Product(self.exp1, self.exp2.derivative(var))\n",
    "        elif not contains(self.exp2, var):\n",
    "            return Product(self.exp1.derivative(var), self.exp2)\n",
    "        else:\n",
    "            return Sum(\n",
    "                Product(self.exp1.derivative(var), self.exp2),\n",
    "                Product(self.exp1, self.exp2.derivative(var)))\n",
    "\n",
    "    def substitute(self, var, exp):\n",
    "        return Product(self.exp1.substitute(var,exp), self.exp2.substitute(var,exp))\n",
    "    \n",
    "    def _python_expr(self):\n",
    "        return \"({})*({})\".format(self.exp1._python_expr(), self.exp2._python_expr())\n",
    "    \n",
    "class Difference(Expression):\n",
    "    def __init__(self,exp1,exp2):\n",
    "        self.exp1 = exp1\n",
    "        self.exp2 = exp2\n",
    "    def latex(self):\n",
    "        return \"{} - {}\".format(\n",
    "            self.exp1.latex(),\n",
    "            paren_if_instance(self.exp2,Sum,Difference,Negative))\n",
    "    def evaluate(self, **bindings):\n",
    "        return self.exp1.evaluate(**bindings) - self.exp2.evaluate(**bindings)\n",
    "    def expand(self):\n",
    "        return self\n",
    "    def display(self):\n",
    "        return \"Difference({},{})\".format(self.exp1.display(), self.exp2.display())\n",
    "    def derivative(self,var):\n",
    "        return Difference(self.exp1.derivative(var),self.exp2.derivative(var))\n",
    "    def substitute(self, var, exp):\n",
    "        return Difference(self.exp1.substitute(var,exp), self.exp2.substitute(var,exp))   \n",
    "    def _python_expr(self):\n",
    "        return \"({}) - ({})\".format(self.exp1._python_expr(), self.exp2._python_expr())\n",
    "    \n",
    "class Quotient(Expression):\n",
    "    def __init__(self,numerator,denominator):\n",
    "        self.numerator = numerator\n",
    "        self.denominator = denominator\n",
    "    def latex(self):\n",
    "        return \"\\\\frac{{ {} }}{{ {} }}\".format(self.numerator.latex(),self.denominator.latex())\n",
    "    def evaluate(self, **bindings):\n",
    "        return self.numerator.evaluate(**bindings) / self.denominator.evaluate(**bindings)\n",
    "    def expand(self):\n",
    "        return self\n",
    "    def display(self):\n",
    "        return \"Quotient({},{})\".format(self.numerator.display(),self.denominator.display())\n",
    "    def substitute(self, var, exp):\n",
    "        return Quotient(self.numerator.substitute(var,exp), self.denominator.substitute(var,exp))\n",
    "    def derivative(self, var):\n",
    "        return Quotient(\n",
    "            Difference(\n",
    "                Product(self.denominator, self.numerator.derivative(var)),\n",
    "                Product(self.numerator, self.denominator.derivative(var))\n",
    "            ),\n",
    "            Power(self.denominator,Number(2)))\n",
    "    def _python_expr(self):\n",
    "        return \"({}) / ({})\".format(self.exp1._python_expr(), self.exp2._python_expr())\n",
    "    \n",
    "class Negative(Expression):\n",
    "    def __init__(self,exp):\n",
    "        self.exp = exp\n",
    "    def latex(self):\n",
    "        return \"- {}\".format(\n",
    "            paren_if_instance(self.exp,Sum,Difference,Negative))\n",
    "    def evaluate(self, **bindings):\n",
    "        return - self.exp.evaluate(**bindings)\n",
    "    def expand(self):\n",
    "        return self\n",
    "    def derivative(self,var):\n",
    "        return Negative(self.exp.derivative(var))\n",
    "    def substitute(self,var,exp):\n",
    "        return Negative(self.exp.substitute(var,exp))\n",
    "    def _python_expr(self):\n",
    "        return \"- ({})\".format(self.exp._python_expr())\n",
    "    def display(self):\n",
    "        return \"Negative({})\".format(self.exp.display())\n",
    "    \n",
    "class Number(Expression):\n",
    "    def __init__(self,number):\n",
    "        self.number = number\n",
    "    def latex(self):\n",
    "        return str(self.number)\n",
    "    def evaluate(self, **bindings):\n",
    "        return self.number\n",
    "    def expand(self):\n",
    "        return self\n",
    "    def display(self):\n",
    "        return \"Number({})\".format(self.number)\n",
    "    def derivative(self,var):\n",
    "        return Number(0)\n",
    "    def substitute(self,var,exp):\n",
    "        return self\n",
    "    def _python_expr(self):\n",
    "        return str(self.number)\n",
    "    \n",
    "class Power(Expression):\n",
    "    def __init__(self,base,exponent):\n",
    "        self.base = base\n",
    "        self.exponent = exponent\n",
    "    def latex(self):\n",
    "        return \"{} ^ {{ {} }}\".format(\n",
    "            paren_if_instance(self.base, Sum, Negative, Difference, Quotient, Product),\n",
    "            self.exponent.latex())\n",
    "    def evaluate(self, **bindings):\n",
    "        return self.base.evaluate(**bindings) ** self.exponent.evaluate(**bindings)\n",
    "    def expand(self):\n",
    "        return self\n",
    "#         expanded_exponent = self.exponent.expand()\n",
    "#         print (expanded_exponent)\n",
    "#         if isinstance(expanded_exponent, Number)\\\n",
    "#             and (expanded_exponent.number % 1 == 0)\\\n",
    "#             and (expanded_exponent.number > 0):\n",
    "#                 power = int(expanded_exponent.number)\n",
    "#                 if power == 1:\n",
    "#                     return self.base.expand()\n",
    "#                 else:\n",
    "#                     return Product(self.base.expand(), Power(self.base,Number(power-1)).expand()).expand()\n",
    "#         else:\n",
    "#             return Power(self.base.expand, expanded_exponent)\n",
    "    def display(self):\n",
    "        return \"Power({},{})\".format(self.base.display(),self.exponent.display())\n",
    "    def derivative(self,var):\n",
    "        if isinstance(self.exponent, Number):\n",
    "            power_rule = Product(\n",
    "                    Number(self.exponent.number), \n",
    "                    Power(self.base, Number(self.exponent.number - 1)))\n",
    "            return Product(self.base.derivative(var),power_rule)\n",
    "        elif isinstance(self.base, Number):\n",
    "            exponential_rule = Product(Apply(Function(\"ln\"),Number(self.base.number)), self)\n",
    "            return Product(self.exponent.derivative(var), exponential_rule)\n",
    "        else:\n",
    "            raise Exception(\"couldn't take derivative of power {}\".format(self.display()))\n",
    "    def substitute(self,var,exp):\n",
    "        return Power(self.base.substitute(var,exp), self.exponent.substitute(var,exp))\n",
    "    \n",
    "    def _python_expr(self):\n",
    "        return \"({}) ** ({})\".format(self.base._python_expr(), self.exponent._python_expr())\n",
    "    \n",
    "class Variable(Expression):\n",
    "    def __init__(self,symbol):\n",
    "        self.symbol = symbol\n",
    "    def latex(self):\n",
    "        return self.symbol\n",
    "    def evaluate(self, **bindings):\n",
    "        return bindings[self.symbol]\n",
    "    def expand(self):\n",
    "        return self\n",
    "    def display(self):\n",
    "        return \"Variable(\\\"{}\\\")\".format(self.symbol)\n",
    "    def derivative(self, var):\n",
    "        if self.symbol == var.symbol:\n",
    "            return Number(1)\n",
    "        else:\n",
    "            return Number(0)\n",
    "    def substitute(self, var, exp):\n",
    "        if self.symbol == var.symbol:\n",
    "            return exp\n",
    "        else:\n",
    "            return self\n",
    "        \n",
    "    def _python_expr(self):\n",
    "        return self.symbol\n",
    "        \n",
    "class Function():\n",
    "    def __init__(self,name,make_latex=None):\n",
    "        self.name = name\n",
    "        self.make_latex = make_latex\n",
    "    def latex(self,arg_latex):\n",
    "        if self.make_latex:\n",
    "            return self.make_latex(arg_latex)\n",
    "        else:\n",
    "            return \" \\\\operatorname{{ {} }} \\\\left( {} \\\\right)\".format(self.name, arg_latex)\n",
    "  \n",
    "class Apply(Expression):\n",
    "    def __init__(self,function,argument):\n",
    "        self.function = function\n",
    "        self.argument = argument\n",
    "    def latex(self):\n",
    "        return self.function.latex(self.argument.latex())\n",
    "#         return \"\\\\operatorname{{ {} }} \\\\left( {} \\\\right)\".format(self.function.name, self.argument.latex())\n",
    "    def evaluate(self, **bindings):\n",
    "        return _function_bindings[self.function.name](self.argument.evaluate(**bindings))\n",
    "    def expand(self):\n",
    "        return Apply(self.function, self.argument.expand())\n",
    "    def display(self):\n",
    "        return \"Apply(Function(\\\"{}\\\"),{})\".format(self.function.name, self.argument.display())\n",
    "    def derivative(self, var):\n",
    "        return Product(\n",
    "                self.argument.derivative(var), \n",
    "                _derivatives[self.function.name].substitute(_var, self.argument))\n",
    "    def substitute(self,var,exp):\n",
    "        return Apply(self.function, self.argument.substitute(var,exp))\n",
    "    \n",
    "    def _python_expr(self):\n",
    "        return _function_python[self.function.name].format(self.argument._python_expr())\n",
    "\n",
    "_function_bindings = {\n",
    "    \"sin\": math.sin,\n",
    "    \"cos\": math.cos,\n",
    "    \"ln\": math.log,\n",
    "    \"sqrt\": math.sqrt\n",
    "}\n",
    "\n",
    "_function_python = {\n",
    "    \"sin\": \"math.sin({})\",\n",
    "    \"cos\": \"math.cos({})\",\n",
    "    \"ln\": \"math.log({})\",\n",
    "    \"sqrt\": \"math.sqrt({})\"\n",
    "}\n",
    "\n",
    "_var = Variable('placeholder variable')\n",
    "\n",
    "_derivatives = {\n",
    "    \"sin\": Apply(Function(\"cos\"), _var),\n",
    "    \"cos\": Product(Number(-1), Apply(Function(\"sin\"), _var)),\n",
    "    \"ln\": Quotient(Number(1), _var),\n",
    "    \"sqrt\": Quotient(Number(1), Product(Number(2), Apply(Function(\"sqrt\"), _var)))\n",
    "}\n",
    "    \n",
    "x = Variable('x')\n",
    "y = Variable('y')\n",
    "z = Variable('z')\n",
    "a = Variable('a')\n",
    "b = Variable('b')\n",
    "\n",
    "def _apply(func_name):\n",
    "    return (lambda x: Apply(Function(func_name), x))\n",
    "\n",
    "Sin = _apply(\"sin\")\n",
    "Cos = _apply(\"cos\")\n",
    "Sqrt = lambda exp: Apply(Function('sqrt', lambda s: \"\\\\sqrt{{ {} }}\".format(s)), exp)\n",
    "\n",
    "# TODO: equality\n",
    "# TODO: evalb\n",
    "# TODO: substitution\n",
    "# TODO: derivative"
   ]
  },
  {
   "cell_type": "code",
   "execution_count": 13,
   "metadata": {},
   "outputs": [],
   "source": [
    "def distinct_variables(exp):\n",
    "    if isinstance(exp, Variable):\n",
    "        return set(exp.symbol)\n",
    "    elif isinstance(exp, Number):\n",
    "        return set()\n",
    "    elif isinstance(exp, Sum):\n",
    "        return set().union(*[distinct_variables(exp) for exp in exp.exps])\n",
    "    elif isinstance(exp, Product):\n",
    "        return distinct_variables(exp.exp1).union(distinct_variables(exp.exp2))\n",
    "    elif isinstance(exp, Power):\n",
    "        return distinct_variables(exp.base).union(distinct_variables(exp.exponent))\n",
    "    elif isinstance(exp, Apply):\n",
    "        return distinct_variables(exp.argument)\n",
    "    else:\n",
    "        raise TypeError(\"Not a valid expression.\")\n",
    "    "
   ]
  },
  {
   "cell_type": "code",
   "execution_count": 19,
   "metadata": {},
   "outputs": [],
   "source": [
    "def contains(exp, var):\n",
    "    if isinstance(exp, Variable):\n",
    "        return exp.symbol == var.symbol\n",
    "    elif isinstance(exp, Number):\n",
    "        return False\n",
    "    elif isinstance(exp, Sum):\n",
    "        return any([contains(e,var) for e in exp.exps])\n",
    "    elif isinstance(exp, Product):\n",
    "        return contains(exp.exp1,var) or contains(exp.exp2,var)\n",
    "    elif isinstance(exp, Power):\n",
    "        return contains(exp.base, var) or contains(exp.exponent, var)\n",
    "    elif isinstance(exp, Apply):\n",
    "        return contains(exp.argument, var)\n",
    "    else:\n",
    "        raise TypeError(\"Not a valid expression.\")"
   ]
  },
  {
   "cell_type": "code",
   "execution_count": 15,
   "metadata": {},
   "outputs": [
    {
     "data": {
      "text/plain": [
       "'(6)*(math.cos((x) ** (2)))'"
      ]
     },
     "execution_count": 15,
     "metadata": {},
     "output_type": "execute_result"
    }
   ],
   "source": [
    "(6*Cos(x**2))._python_expr()"
   ]
  },
  {
   "cell_type": "code",
   "execution_count": 16,
   "metadata": {},
   "outputs": [
    {
     "data": {
      "text/plain": [
       "6.0"
      ]
     },
     "execution_count": 16,
     "metadata": {},
     "output_type": "execute_result"
    }
   ],
   "source": [
    "(6*Cos(x**2)).python_function(x=0)"
   ]
  },
  {
   "cell_type": "code",
   "execution_count": 17,
   "metadata": {},
   "outputs": [
    {
     "data": {
      "text/plain": [
       "6.0"
      ]
     },
     "execution_count": 17,
     "metadata": {},
     "output_type": "execute_result"
    }
   ],
   "source": [
    "(6*Cos(x**2)).evaluate(x=0)"
   ]
  },
  {
   "cell_type": "code",
   "execution_count": 18,
   "metadata": {},
   "outputs": [
    {
     "data": {
      "text/plain": [
       "9"
      ]
     },
     "execution_count": 18,
     "metadata": {},
     "output_type": "execute_result"
    }
   ],
   "source": [
    "(x**2)(3)"
   ]
  },
  {
   "cell_type": "code",
   "execution_count": 85,
   "metadata": {},
   "outputs": [
    {
     "data": {
      "text/latex": [
       "$$1\\frac{ 1 }{ 2 \\operatorname{ sqrt } \\left( x \\right) }$$"
      ],
      "text/plain": [
       "Product(Number(1),Quotient(Number(1),Product(Number(2),Apply(Function(\"sqrt\"),Variable(\"x\")))))"
      ]
     },
     "execution_count": 85,
     "metadata": {},
     "output_type": "execute_result"
    }
   ],
   "source": [
    "Sqrt(x).derivative(x)"
   ]
  },
  {
   "cell_type": "code",
   "execution_count": 86,
   "metadata": {},
   "outputs": [
    {
     "data": {
      "text/plain": [
       "True"
      ]
     },
     "execution_count": 86,
     "metadata": {},
     "output_type": "execute_result"
    }
   ],
   "source": [
    "isinstance(x**y,Expression)"
   ]
  },
  {
   "cell_type": "code",
   "execution_count": 87,
   "metadata": {},
   "outputs": [
    {
     "data": {
      "text/latex": [
       "$$\\left( a + b \\right)\\left( x + y \\right)$$"
      ],
      "text/plain": [
       "Product(Sum(Variable(\"a\"),Variable(\"b\")),Sum(Variable(\"x\"),Variable(\"y\")))"
      ]
     },
     "execution_count": 87,
     "metadata": {},
     "output_type": "execute_result"
    }
   ],
   "source": [
    "(a+b)*(x+y)\n",
    "# Power(Sum(X,Y),Number(3)).expand()"
   ]
  },
  {
   "cell_type": "code",
   "execution_count": 88,
   "metadata": {},
   "outputs": [
    {
     "data": {
      "text/latex": [
       "$$\\sqrt{ x }$$"
      ],
      "text/plain": [
       "Apply(Function(\"sqrt\"),Variable(\"x\"))"
      ]
     },
     "execution_count": 88,
     "metadata": {},
     "output_type": "execute_result"
    }
   ],
   "source": [
    "Sqrt(x)"
   ]
  },
  {
   "cell_type": "code",
   "execution_count": 89,
   "metadata": {},
   "outputs": [
    {
     "data": {
      "text/latex": [
       "$$\\frac{ - b + \\sqrt{ b ^ { 2 } - 4ac } }{ 2a }$$"
      ],
      "text/plain": [
       "Quotient(Sum(Negative(Variable(\"b\")),Apply(Function(\"sqrt\"),Difference(Power(Variable(\"b\"),Number(2)),Product(Number(4),Product(Variable(\"a\"),Variable(\"c\")))))),Product(Number(2),Variable(\"a\")))"
      ]
     },
     "execution_count": 89,
     "metadata": {},
     "output_type": "execute_result"
    }
   ],
   "source": [
    "A = Variable('a')\n",
    "B = Variable('b')\n",
    "C = Variable('c')\n",
    "Sqrt = Function('sqrt')\n",
    "Sqrt = Function('sqrt', lambda s: \"\\\\sqrt{{ {} }}\".format(s))\n",
    "\n",
    "Quotient(Sum(Negative(B),Apply(Sqrt, Difference(Power(B,Number(2)),Product(Number(4), Product(A,C))))),Product(Number(2), A))"
   ]
  },
  {
   "cell_type": "code",
   "execution_count": 90,
   "metadata": {},
   "outputs": [
    {
     "data": {
      "text/latex": [
       "$$b ^ { 2 } - 4ac$$"
      ],
      "text/plain": [
       "Difference(Power(Variable(\"b\"),Number(2)),Product(Number(4),Product(Variable(\"a\"),Variable(\"c\"))))"
      ]
     },
     "execution_count": 90,
     "metadata": {},
     "output_type": "execute_result"
    }
   ],
   "source": [
    "Difference(Power(Variable('b'),Number(2)),Product(Number(4),Product(Variable('a'), Variable('c'))))"
   ]
  },
  {
   "cell_type": "code",
   "execution_count": 91,
   "metadata": {},
   "outputs": [
    {
     "data": {
      "text/latex": [
       "$$- \\left( x ^ { 2 } + y \\right)$$"
      ],
      "text/plain": [
       "Negative(Sum(Power(Variable(\"x\"),Number(2)),Variable(\"y\")))"
      ]
     },
     "execution_count": 91,
     "metadata": {},
     "output_type": "execute_result"
    }
   ],
   "source": [
    "Negative(Sum(Power(Variable(\"x\"),Number(2)),Variable(\"y\")))"
   ]
  },
  {
   "cell_type": "code",
   "execution_count": 92,
   "metadata": {},
   "outputs": [
    {
     "data": {
      "text/latex": [
       "$$ \\operatorname{ ln } \\left( y ^ { z } \\right)$$"
      ],
      "text/plain": [
       "Apply(Function(\"ln\"),Power(Variable(\"y\"),Variable(\"z\")))"
      ]
     },
     "execution_count": 92,
     "metadata": {},
     "output_type": "execute_result"
    }
   ],
   "source": [
    "Apply(Function(\"ln\"), Power(Variable(\"y\"), Variable(\"z\")))"
   ]
  },
  {
   "cell_type": "code",
   "execution_count": 93,
   "metadata": {},
   "outputs": [
    {
     "data": {
      "text/latex": [
       "$$3\\left( y + z \\right)$$"
      ],
      "text/plain": [
       "Product(Number(3),Sum(Variable(\"y\"),Variable(\"z\")))"
      ]
     },
     "execution_count": 93,
     "metadata": {},
     "output_type": "execute_result"
    }
   ],
   "source": [
    "Product(Number(3),Sum(Variable(\"y\"),Variable(\"z\")))"
   ]
  },
  {
   "cell_type": "code",
   "execution_count": 94,
   "metadata": {},
   "outputs": [
    {
     "data": {
      "text/latex": [
       "$$\\left( x - y \\right) ^ { 3 }$$"
      ],
      "text/plain": [
       "Power(Difference(Variable(\"x\"),Variable(\"y\")),Number(3))"
      ]
     },
     "execution_count": 94,
     "metadata": {},
     "output_type": "execute_result"
    }
   ],
   "source": [
    "(x-y)**3"
   ]
  },
  {
   "cell_type": "code",
   "execution_count": 95,
   "metadata": {},
   "outputs": [
    {
     "data": {
      "text/latex": [
       "$$\\frac{ a + b }{ 2 }$$"
      ],
      "text/plain": [
       "Quotient(Sum(Variable(\"a\"),Variable(\"b\")),Number(2))"
      ]
     },
     "execution_count": 95,
     "metadata": {},
     "output_type": "execute_result"
    }
   ],
   "source": [
    "from math import log\n",
    "def f(y,z):\n",
    "    return log(y**z)\n",
    "Quotient(Sum(Variable(\"a\"),Variable(\"b\")),Number(2))"
   ]
  },
  {
   "cell_type": "code",
   "execution_count": 96,
   "metadata": {},
   "outputs": [
    {
     "data": {
      "text/latex": [
       "$$\\left( a + b \\right)\\left( x + y \\right)$$"
      ],
      "text/plain": [
       "Product(Sum(Variable(\"a\"),Variable(\"b\")),Sum(Variable(\"x\"),Variable(\"y\")))"
      ]
     },
     "execution_count": 96,
     "metadata": {},
     "output_type": "execute_result"
    }
   ],
   "source": [
    "(a+b)*(x+y)"
   ]
  },
  {
   "cell_type": "code",
   "execution_count": 97,
   "metadata": {},
   "outputs": [
    {
     "data": {
      "text/latex": [
       "$$ \\operatorname{ sin } \\left( x\\left( y + z \\right) \\right)$$"
      ],
      "text/plain": [
       "Apply(Function(\"sin\"),Product(Variable(\"x\"),Sum(Variable(\"y\"),Variable(\"z\"))))"
      ]
     },
     "execution_count": 97,
     "metadata": {},
     "output_type": "execute_result"
    }
   ],
   "source": [
    "Sin(x*(y+z))"
   ]
  },
  {
   "cell_type": "code",
   "execution_count": 98,
   "metadata": {},
   "outputs": [
    {
     "data": {
      "text/latex": [
       "$$ \\operatorname{ sin } \\left( xy + xz \\right)$$"
      ],
      "text/plain": [
       "Apply(Function(\"sin\"),Sum(Product(Variable(\"x\"),Variable(\"y\")),Product(Variable(\"x\"),Variable(\"z\"))))"
      ]
     },
     "execution_count": 98,
     "metadata": {},
     "output_type": "execute_result"
    }
   ],
   "source": [
    "X=x\n",
    "Y=y\n",
    "Z=z\n",
    "Apply(Function('sin'),Product(X,Sum(Y,Z))).expand()"
   ]
  },
  {
   "cell_type": "code",
   "execution_count": 99,
   "metadata": {},
   "outputs": [],
   "source": [
    "f_expression = Product(\n",
    "                Sum(\n",
    "                    Product(\n",
    "                        Number(3),\n",
    "                        Power(\n",
    "                            Variable(\"x\"),\n",
    "                            Number(2))), \n",
    "                    Variable(\"x\")), \n",
    "                Apply(\n",
    "                    Function(\"sin\"),\n",
    "                    Variable(\"x\")))"
   ]
  },
  {
   "cell_type": "code",
   "execution_count": 100,
   "metadata": {},
   "outputs": [
    {
     "data": {
      "text/latex": [
       "$$\\left( 3x ^ { 2 } + x \\right) \\operatorname{ sin } \\left( x \\right)$$"
      ],
      "text/plain": [
       "Product(Sum(Product(Number(3),Power(Variable(\"x\"),Number(2))),Variable(\"x\")),Apply(Function(\"sin\"),Variable(\"x\")))"
      ]
     },
     "execution_count": 100,
     "metadata": {},
     "output_type": "execute_result"
    }
   ],
   "source": [
    "f_expression"
   ]
  },
  {
   "cell_type": "code",
   "execution_count": 41,
   "metadata": {},
   "outputs": [
    {
     "data": {
      "text/plain": [
       "'Sum(Product(Product(Number(3),Power(Variable(\"x\"),Number(2))),Apply(Function(\"sin\"),Variable(\"x\"))),Product(Variable(\"x\"),Apply(Function(\"sin\"),Variable(\"x\"))))'"
      ]
     },
     "execution_count": 41,
     "metadata": {},
     "output_type": "execute_result"
    }
   ],
   "source": [
    "f_expression.expand().display()"
   ]
  },
  {
   "cell_type": "code",
   "execution_count": 42,
   "metadata": {},
   "outputs": [
    {
     "data": {
      "text/plain": [
       "'Sum(Product(Product(Number(3),Power(Variable(\"x\"),Number(2))),Apply(Function(\"sin\"),Variable(\"x\"))),Product(Variable(\"x\"),Apply(Function(\"sin\"),Variable(\"x\"))))'"
      ]
     },
     "execution_count": 42,
     "metadata": {},
     "output_type": "execute_result"
    }
   ],
   "source": [
    "str(f_expression.expand())"
   ]
  },
  {
   "cell_type": "code",
   "execution_count": 43,
   "metadata": {},
   "outputs": [
    {
     "data": {
      "text/plain": [
       "(Variable(\"y\"), Variable(\"z\"))"
      ]
     },
     "execution_count": 43,
     "metadata": {},
     "output_type": "execute_result"
    }
   ],
   "source": [
    "Sum(Y,Z).exps"
   ]
  },
  {
   "cell_type": "code",
   "execution_count": 44,
   "metadata": {},
   "outputs": [
    {
     "data": {
      "text/latex": [
       "$$\\left( \\frac{ x }{ 1.5 }y \\right) ^ {  \\operatorname{ sin } \\left( x + x + x + x \\right) }$$"
      ],
      "text/plain": [
       "Power(Product(Quotient(Variable(\"x\"),Number(1.5)),Variable(\"y\")),Apply(Function(\"sin\"),Sum(Variable(\"x\"),Variable(\"x\"),Variable(\"x\"),Variable(\"x\"))))"
      ]
     },
     "execution_count": 44,
     "metadata": {},
     "output_type": "execute_result"
    }
   ],
   "source": [
    "x = Variable(\"x\")\n",
    "y = Variable(\"y\")\n",
    "Power(Product(Quotient(x,Number(3/2)),y),Apply(Function(\"sin\"),Sum(x,x,x,x)))"
   ]
  },
  {
   "cell_type": "code",
   "execution_count": 45,
   "metadata": {},
   "outputs": [
    {
     "data": {
      "text/plain": [
       "9"
      ]
     },
     "execution_count": 45,
     "metadata": {},
     "output_type": "execute_result"
    }
   ],
   "source": [
    "Power(x,y).evaluate(x=3,y=2)"
   ]
  },
  {
   "cell_type": "code",
   "execution_count": 46,
   "metadata": {},
   "outputs": [
    {
     "data": {
      "text/plain": [
       "0.7071067811865476"
      ]
     },
     "execution_count": 46,
     "metadata": {},
     "output_type": "execute_result"
    }
   ],
   "source": [
    "Apply(Function(\"cos\"), Number(math.pi/4)).evaluate()"
   ]
  },
  {
   "cell_type": "code",
   "execution_count": 47,
   "metadata": {},
   "outputs": [
    {
     "data": {
      "text/plain": [
       "{'e': 4, 'f': 5}"
      ]
     },
     "execution_count": 47,
     "metadata": {},
     "output_type": "execute_result"
    }
   ],
   "source": [
    "dict({\"e\":3},**{\"e\":4,\"f\":5})"
   ]
  },
  {
   "cell_type": "code",
   "execution_count": 48,
   "metadata": {},
   "outputs": [],
   "source": [
    "from math import sin\n",
    "def f(x):\n",
    "    return (3*x + 1) * sin(x)"
   ]
  },
  {
   "cell_type": "code",
   "execution_count": 49,
   "metadata": {},
   "outputs": [],
   "source": [
    "import inspect\n",
    "def contains_sin(f):\n",
    "    source = inspect.getsource(f)\n",
    "    return 'sin' in source"
   ]
  },
  {
   "cell_type": "code",
   "execution_count": 50,
   "metadata": {},
   "outputs": [
    {
     "data": {
      "text/plain": [
       "True"
      ]
     },
     "execution_count": 50,
     "metadata": {},
     "output_type": "execute_result"
    }
   ],
   "source": [
    "contains_sin(f)"
   ]
  },
  {
   "cell_type": "code",
   "execution_count": 51,
   "metadata": {},
   "outputs": [],
   "source": [
    "foo = sin\n",
    "def g(x):\n",
    "    return foo(x)\n",
    "def h(x):\n",
    "    preprocessing = x + 3\n",
    "    return preprocessing"
   ]
  },
  {
   "cell_type": "code",
   "execution_count": 52,
   "metadata": {},
   "outputs": [
    {
     "data": {
      "text/plain": [
       "False"
      ]
     },
     "execution_count": 52,
     "metadata": {},
     "output_type": "execute_result"
    }
   ],
   "source": [
    "contains_sin(g)"
   ]
  },
  {
   "cell_type": "code",
   "execution_count": 53,
   "metadata": {},
   "outputs": [
    {
     "data": {
      "text/plain": [
       "True"
      ]
     },
     "execution_count": 53,
     "metadata": {},
     "output_type": "execute_result"
    }
   ],
   "source": [
    "contains_sin(h)"
   ]
  },
  {
   "cell_type": "code",
   "execution_count": 54,
   "metadata": {},
   "outputs": [
    {
     "data": {
      "text/latex": [
       "$$x ^ { 2 }$$"
      ],
      "text/plain": [
       "Power(Variable(\"x\"),Number(2))"
      ]
     },
     "execution_count": 54,
     "metadata": {},
     "output_type": "execute_result"
    }
   ],
   "source": [
    "Power(Variable(\"x\"),Number(2))"
   ]
  },
  {
   "cell_type": "code",
   "execution_count": 55,
   "metadata": {},
   "outputs": [
    {
     "data": {
      "text/latex": [
       "$$3x ^ { 2 }$$"
      ],
      "text/plain": [
       "Product(Number(3),Power(Variable(\"x\"),Number(2)))"
      ]
     },
     "execution_count": 55,
     "metadata": {},
     "output_type": "execute_result"
    }
   ],
   "source": [
    "Product(Number(3),Power(Variable(\"x\"),Number(2)))"
   ]
  },
  {
   "cell_type": "code",
   "execution_count": 56,
   "metadata": {},
   "outputs": [
    {
     "data": {
      "text/latex": [
       "$$\\left( 3x ^ { 2 } + x \\right) \\operatorname{ sin } \\left( x \\right)$$"
      ],
      "text/plain": [
       "Product(Sum(Product(Number(3),Power(Variable(\"x\"),Number(2))),Variable(\"x\")),Apply(Function(\"sin\"),Variable(\"x\")))"
      ]
     },
     "execution_count": 56,
     "metadata": {},
     "output_type": "execute_result"
    }
   ],
   "source": [
    "f_expression"
   ]
  },
  {
   "cell_type": "code",
   "execution_count": 57,
   "metadata": {},
   "outputs": [
    {
     "data": {
      "text/latex": [
       "$$ \\operatorname{ cos } \\left( x ^ { 3 } + -5 \\right)$$"
      ],
      "text/plain": [
       "Apply(Function(\"cos\"),Sum(Power(Variable(\"x\"),Number(3)),Number(-5)))"
      ]
     },
     "execution_count": 57,
     "metadata": {},
     "output_type": "execute_result"
    }
   ],
   "source": [
    "Apply(Function(\"cos\"),Sum(Power(Variable(\"x\"),Number(\"3\")), Number(-5)))"
   ]
  },
  {
   "cell_type": "code",
   "execution_count": 59,
   "metadata": {},
   "outputs": [
    {
     "data": {
      "text/latex": [
       "$$x + 5 + yz ^ {  \\operatorname{ sin } \\left( p \\right) }$$"
      ],
      "text/plain": [
       "Sum(Variable(\"x\"),Number(5),Product(Variable(\"y\"),Power(Variable(\"z\"),Apply(Function(\"sin\"),Variable(\"p\")))))"
      ]
     },
     "execution_count": 59,
     "metadata": {},
     "output_type": "execute_result"
    }
   ],
   "source": [
    "test = Sum(Variable(\"x\"),Number(5),Product(Variable(\"y\"),Power(Variable('z'),Apply(Function('sin'),Variable('p')))))\n",
    "test"
   ]
  },
  {
   "cell_type": "code",
   "execution_count": 60,
   "metadata": {},
   "outputs": [
    {
     "data": {
      "text/plain": [
       "{'p', 'x', 'y', 'z'}"
      ]
     },
     "execution_count": 60,
     "metadata": {},
     "output_type": "execute_result"
    }
   ],
   "source": [
    "distinct_variables(test)"
   ]
  },
  {
   "cell_type": "code",
   "execution_count": 61,
   "metadata": {},
   "outputs": [
    {
     "data": {
      "text/plain": [
       "[1, 2, 3, 4, 5]"
      ]
     },
     "execution_count": 61,
     "metadata": {},
     "output_type": "execute_result"
    }
   ],
   "source": [
    "[1,2,3] + [4,5]"
   ]
  },
  {
   "cell_type": "code",
   "execution_count": 62,
   "metadata": {},
   "outputs": [
    {
     "data": {
      "text/plain": [
       "{3, 4, 5, 6, 7}"
      ]
     },
     "execution_count": 62,
     "metadata": {},
     "output_type": "execute_result"
    }
   ],
   "source": [
    "{3,4,5} | {5,6,7}"
   ]
  },
  {
   "cell_type": "code",
   "execution_count": 63,
   "metadata": {},
   "outputs": [
    {
     "data": {
      "text/plain": [
       "{0, 1, 2, 3, 4, 5, 6, 7, 8, 9}"
      ]
     },
     "execution_count": 63,
     "metadata": {},
     "output_type": "execute_result"
    }
   ],
   "source": [
    "set().union(*({x} for x in range(0,10)))"
   ]
  },
  {
   "cell_type": "code",
   "execution_count": 64,
   "metadata": {},
   "outputs": [
    {
     "data": {
      "text/plain": [
       "{'z'}"
      ]
     },
     "execution_count": 64,
     "metadata": {},
     "output_type": "execute_result"
    }
   ],
   "source": [
    "distinct_variables(Variable(\"z\"))"
   ]
  },
  {
   "cell_type": "code",
   "execution_count": 65,
   "metadata": {},
   "outputs": [
    {
     "data": {
      "text/plain": [
       "set()"
      ]
     },
     "execution_count": 65,
     "metadata": {},
     "output_type": "execute_result"
    }
   ],
   "source": [
    "distinct_variables(Number(3))"
   ]
  },
  {
   "cell_type": "code",
   "execution_count": 66,
   "metadata": {},
   "outputs": [
    {
     "data": {
      "text/plain": [
       "{'x'}"
      ]
     },
     "execution_count": 66,
     "metadata": {},
     "output_type": "execute_result"
    }
   ],
   "source": [
    "distinct_variables(f_expression)"
   ]
  },
  {
   "cell_type": "code",
   "execution_count": 67,
   "metadata": {},
   "outputs": [
    {
     "data": {
      "text/plain": [
       "False"
      ]
     },
     "execution_count": 67,
     "metadata": {},
     "output_type": "execute_result"
    }
   ],
   "source": [
    "Sum(Number(3),Number(3)) is Sum"
   ]
  },
  {
   "cell_type": "code",
   "execution_count": 68,
   "metadata": {},
   "outputs": [
    {
     "data": {
      "text/latex": [
       "$$xy + xz$$"
      ],
      "text/plain": [
       "Sum(Product(Variable(\"x\"),Variable(\"y\")),Product(Variable(\"x\"),Variable(\"z\")))"
      ]
     },
     "execution_count": 68,
     "metadata": {},
     "output_type": "execute_result"
    }
   ],
   "source": [
    "X = Variable('x')\n",
    "Y = Variable('y')\n",
    "Z = Variable('z')\n",
    "Product(X,Sum(Y,Z)).expand()"
   ]
  },
  {
   "cell_type": "code",
   "execution_count": 69,
   "metadata": {},
   "outputs": [
    {
     "data": {
      "text/plain": [
       "0.0"
      ]
     },
     "execution_count": 69,
     "metadata": {},
     "output_type": "execute_result"
    }
   ],
   "source": [
    "5.0 % 1"
   ]
  },
  {
   "cell_type": "code",
   "execution_count": 102,
   "metadata": {},
   "outputs": [],
   "source": [
    "import matplotlib.pyplot as plt\n",
    "import numpy as np\n",
    "\n",
    "def secant(y,xmin,xmax):\n",
    "    slope = (y(xmax) - y(xmin)) / (xmax - xmin)\n",
    "    def linear_function(x):\n",
    "        return slope * (x - xmin) + y(xmin)\n",
    "    return linear_function\n",
    "def secant_slope(f,xmin,xmax):\n",
    "    return (f(xmax) - f(xmin)) / (xmax - xmin)\n",
    "\n",
    "def plot_function(f,xmin,xmax,color=None):\n",
    "    ts = np.linspace(xmin,xmax,1000)\n",
    "    plt.plot(ts,[f(t) for t in ts],c=color)\n",
    "    \n",
    "def plot_secant(y,xmin,xmax,color=None,points=False):\n",
    "    plot_function(secant(y,xmin,xmax),xmin,xmax,color=color)\n",
    "    if points:\n",
    "        plt.scatter([xmin,xmax],[y(xmin),y(xmax)],c=color)"
   ]
  },
  {
   "cell_type": "code",
   "execution_count": 103,
   "metadata": {},
   "outputs": [
    {
     "data": {
      "image/png": "[encoded data removed]",
      "text/plain": [
       "<Figure size 432x288 with 1 Axes>"
      ]
     },
     "metadata": {
      "needs_background": "light"
     },
     "output_type": "display_data"
    }
   ],
   "source": [
    "y = lambda x: x**2-x**3\n",
    "plot_function(y, 0, 1)\n",
    "plot_secant(y,0.25,0.75,points=True,color='C1')\n"
   ]
  },
  {
   "cell_type": "code",
   "execution_count": 104,
   "metadata": {},
   "outputs": [
    {
     "data": {
      "image/png": "[encoded data removed]",
      "text/plain": [
       "<Figure size 432x288 with 1 Axes>"
      ]
     },
     "metadata": {
      "needs_background": "light"
     },
     "output_type": "display_data"
    }
   ],
   "source": [
    "plot_function(lambda x: -y(x), 0, 1)\n",
    "plot_secant(lambda x: -y(x),0.25,0.75,points=True,color='C1')"
   ]
  },
  {
   "cell_type": "code",
   "execution_count": 105,
   "metadata": {},
   "outputs": [
    {
     "data": {
      "text/plain": [
       "(-0.1, 0.8)"
      ]
     },
     "execution_count": 105,
     "metadata": {},
     "output_type": "execute_result"
    },
    {
     "data": {
      "image/png": "[encoded data removed]",
      "text/plain": [
       "<Figure size 432x288 with 1 Axes>"
      ]
     },
     "metadata": {
      "needs_background": "light"
     },
     "output_type": "display_data"
    }
   ],
   "source": [
    "from math import sin\n",
    "\n",
    "def z(x):\n",
    "    return 0.2 - 0.5*x + x**2\n",
    "\n",
    "# plot_function(y, 0, 1)\n",
    "# plot_secant(y,0.25,0.75,points=True,color='C1')\n",
    "\n",
    "# plot_function(z, 0, 1, color='C0')\n",
    "# plot_secant(z,0.25,0.75,points=True,color='C1')\n",
    "\n",
    "plot_function(lambda x: y(x)+z(x), 0, 1, color='C0')\n",
    "plot_secant(lambda x: y(x)+z(x),0.25,0.75,points=True,color='C1')\n",
    "\n",
    "plt.ylim(-0.1,0.8)"
   ]
  },
  {
   "cell_type": "code",
   "execution_count": 106,
   "metadata": {},
   "outputs": [
    {
     "data": {
      "text/latex": [
       "$$2\\cdot 1$$"
      ],
      "text/plain": [
       "Product(Number(2),Number(1))"
      ]
     },
     "execution_count": 106,
     "metadata": {},
     "output_type": "execute_result"
    }
   ],
   "source": [
    "Product(Number(2),X).derivative(X)"
   ]
  },
  {
   "cell_type": "code",
   "execution_count": 107,
   "metadata": {},
   "outputs": [
    {
     "data": {
      "text/latex": [
       "$$1\\cdot 2\\cdot 1\\cdot 1\\cdot 1\\cdot 0\\cdot 1\\cdot -1x ^ { -2 }$$"
      ],
      "text/plain": [
       "Product(Number(1),Product(Number(2),Product(Number(1),Product(Number(1),Product(Number(1),Product(Number(0),Product(Number(1),Product(Number(-1),Power(Variable(\"x\"),Number(-2))))))))))"
      ]
     },
     "execution_count": 107,
     "metadata": {},
     "output_type": "execute_result"
    }
   ],
   "source": [
    "Power(X,Number(2)).derivative(X).derivative(X).derivative(X).derivative(X)"
   ]
  },
  {
   "cell_type": "code",
   "execution_count": 108,
   "metadata": {},
   "outputs": [
    {
     "data": {
      "text/latex": [
       "$$x\\cdot 1$$"
      ],
      "text/plain": [
       "Product(Variable(\"x\"),Number(1))"
      ]
     },
     "execution_count": 108,
     "metadata": {},
     "output_type": "execute_result"
    }
   ],
   "source": [
    "Product(X,Y).derivative(Y)"
   ]
  },
  {
   "cell_type": "code",
   "execution_count": 109,
   "metadata": {},
   "outputs": [
    {
     "data": {
      "text/plain": [
       "<function math.log>"
      ]
     },
     "execution_count": 109,
     "metadata": {},
     "output_type": "execute_result"
    }
   ],
   "source": [
    "math.log"
   ]
  },
  {
   "cell_type": "code",
   "execution_count": 110,
   "metadata": {},
   "outputs": [
    {
     "data": {
      "text/latex": [
       "$$1\\cdot 2x ^ { 1 }$$"
      ],
      "text/plain": [
       "Product(Number(1),Product(Number(2),Power(Variable(\"x\"),Number(1))))"
      ]
     },
     "execution_count": 110,
     "metadata": {},
     "output_type": "execute_result"
    }
   ],
   "source": [
    "Power(X,Number(2)).derivative(X)"
   ]
  },
  {
   "cell_type": "code",
   "execution_count": 111,
   "metadata": {},
   "outputs": [],
   "source": [
    "_ = \"_\""
   ]
  },
  {
   "cell_type": "code",
   "execution_count": 112,
   "metadata": {},
   "outputs": [
    {
     "data": {
      "text/latex": [
       "$$\\_$$"
      ],
      "text/plain": [
       "Variable(\"\\_\")"
      ]
     },
     "execution_count": 112,
     "metadata": {},
     "output_type": "execute_result"
    }
   ],
   "source": [
    "_ = Variable(\"\\\\_\")\n",
    "_"
   ]
  },
  {
   "cell_type": "code",
   "execution_count": 113,
   "metadata": {},
   "outputs": [
    {
     "data": {
      "text/latex": [
       "$$1 \\operatorname{ cos } \\left( x \\right)$$"
      ],
      "text/plain": [
       "Product(Number(1),Apply(Function(\"cos\"),Variable(\"x\")))"
      ]
     },
     "execution_count": 113,
     "metadata": {},
     "output_type": "execute_result"
    }
   ],
   "source": [
    "Apply(Function(\"sin\"),X).derivative(X)"
   ]
  },
  {
   "cell_type": "code",
   "execution_count": 114,
   "metadata": {},
   "outputs": [
    {
     "data": {
      "text/latex": [
       "$$\\left( y + z \\right) ^ { 2 }$$"
      ],
      "text/plain": [
       "Power(Sum(Variable(\"y\"),Variable(\"z\")),Number(2))"
      ]
     },
     "execution_count": 114,
     "metadata": {},
     "output_type": "execute_result"
    }
   ],
   "source": [
    "Power(X,Number(2)).substitute(X, Sum(Y,Z))"
   ]
  },
  {
   "cell_type": "code",
   "execution_count": 115,
   "metadata": {},
   "outputs": [
    {
     "data": {
      "text/latex": [
       "$$1 \\operatorname{ cos } \\left( x \\right)\\cdot 13.5 \\operatorname{ sin } \\left( x \\right) ^ { 12.5 }$$"
      ],
      "text/plain": [
       "Product(Product(Number(1),Apply(Function(\"cos\"),Variable(\"x\"))),Product(Number(13.5),Power(Apply(Function(\"sin\"),Variable(\"x\")),Number(12.5))))"
      ]
     },
     "execution_count": 115,
     "metadata": {},
     "output_type": "execute_result"
    }
   ],
   "source": [
    "Power(Apply(Function(\"sin\"),X),Number(13.5)).derivative(X)"
   ]
  },
  {
   "cell_type": "code",
   "execution_count": 116,
   "metadata": {},
   "outputs": [
    {
     "data": {
      "text/latex": [
       "$$1 \\operatorname{ cos } \\left( x \\right) \\operatorname{ ln } \\left( 2 \\right)\\cdot 2 ^ {  \\operatorname{ sin } \\left( x \\right) }$$"
      ],
      "text/plain": [
       "Product(Product(Number(1),Apply(Function(\"cos\"),Variable(\"x\"))),Product(Apply(Function(\"ln\"),Number(2)),Power(Number(2),Apply(Function(\"sin\"),Variable(\"x\")))))"
      ]
     },
     "execution_count": 116,
     "metadata": {},
     "output_type": "execute_result"
    }
   ],
   "source": [
    "Power(Number(2),Apply(Function(\"sin\"),X)).derivative(X)"
   ]
  },
  {
   "cell_type": "code",
   "execution_count": 117,
   "metadata": {},
   "outputs": [
    {
     "data": {
      "text/latex": [
       "$$1\\cdot -1 \\operatorname{ sin } \\left( x \\right)\\frac{ 1 }{  \\operatorname{ cos } \\left( x \\right) }$$"
      ],
      "text/plain": [
       "Product(Product(Number(1),Product(Number(-1),Apply(Function(\"sin\"),Variable(\"x\")))),Quotient(Number(1),Apply(Function(\"cos\"),Variable(\"x\"))))"
      ]
     },
     "execution_count": 117,
     "metadata": {},
     "output_type": "execute_result"
    }
   ],
   "source": [
    "Apply(Function(\"ln\"),Apply(Function(\"cos\"), X)).derivative(X)"
   ]
  },
  {
   "cell_type": "code",
   "execution_count": 118,
   "metadata": {},
   "outputs": [
    {
     "data": {
      "text/latex": [
       "$$\\frac{  \\operatorname{ cos } \\left( x \\right)\\cdot 1 \\operatorname{ cos } \\left( x \\right) -  \\operatorname{ sin } \\left( x \\right)\\cdot 1\\cdot -1 \\operatorname{ sin } \\left( x \\right) }{  \\operatorname{ cos } \\left( x \\right) ^ { 2 } }$$"
      ],
      "text/plain": [
       "Quotient(Difference(Product(Apply(Function(\"cos\"),Variable(\"x\")),Product(Number(1),Apply(Function(\"cos\"),Variable(\"x\")))),Product(Apply(Function(\"sin\"),Variable(\"x\")),Product(Number(1),Product(Number(-1),Apply(Function(\"sin\"),Variable(\"x\")))))),Power(Apply(Function(\"cos\"),Variable(\"x\")),Number(2)))"
      ]
     },
     "execution_count": 118,
     "metadata": {},
     "output_type": "execute_result"
    }
   ],
   "source": [
    "Quotient(Apply(Function(\"sin\"),X),Apply(Function(\"cos\"),X)).derivative(X)"
   ]
  },
  {
   "cell_type": "code",
   "execution_count": 119,
   "metadata": {},
   "outputs": [
    {
     "data": {
      "text/plain": [
       "'Sum(Number(1),Number(0),Number(0))'"
      ]
     },
     "execution_count": 119,
     "metadata": {},
     "output_type": "execute_result"
    }
   ],
   "source": [
    "Sum(Variable(\"x\"),Variable(\"c\"),Number(1)).derivative(Variable(\"x\")).display()"
   ]
  },
  {
   "cell_type": "code",
   "execution_count": 120,
   "metadata": {},
   "outputs": [
    {
     "data": {
      "text/latex": [
       "$$\\left( 1 + 0 \\right)\\cdot 4\\left( x + 1 \\right) ^ { 3 }$$"
      ],
      "text/plain": [
       "Product(Sum(Number(1),Number(0)),Product(Number(4),Power(Sum(Variable(\"x\"),Number(1)),Number(3))))"
      ]
     },
     "execution_count": 120,
     "metadata": {},
     "output_type": "execute_result"
    }
   ],
   "source": [
    "Power(Sum(X,Number(1)),Number(4)).derivative(X)"
   ]
  },
  {
   "cell_type": "code",
   "execution_count": 121,
   "metadata": {},
   "outputs": [
    {
     "data": {
      "text/plain": [
       "'Product(Variable(\"c\"),Number(1))'"
      ]
     },
     "execution_count": 121,
     "metadata": {},
     "output_type": "execute_result"
    }
   ],
   "source": [
    "Product(Variable(\"c\"),Variable(\"x\")).derivative(Variable(\"x\")).display()"
   ]
  },
  {
   "cell_type": "code",
   "execution_count": 122,
   "metadata": {},
   "outputs": [
    {
     "data": {
      "text/latex": [
       "$$1\\cdot 2x ^ { 1 } \\operatorname{ cos } \\left( x ^ { 2 } \\right)$$"
      ],
      "text/plain": [
       "Product(Product(Number(1),Product(Number(2),Power(Variable(\"x\"),Number(1)))),Apply(Function(\"cos\"),Power(Variable(\"x\"),Number(2))))"
      ]
     },
     "execution_count": 122,
     "metadata": {},
     "output_type": "execute_result"
    }
   ],
   "source": [
    "Apply(Function(\"sin\"),Power(Variable(\"x\"),Number(2))).derivative(X)"
   ]
  },
  {
   "cell_type": "code",
   "execution_count": 123,
   "metadata": {},
   "outputs": [
    {
     "data": {
      "text/latex": [
       "$$\\left( 3\\cdot 1\\cdot 2x ^ { 1 } + 1 \\right) \\operatorname{ sin } \\left( x \\right) + \\left( 3x ^ { 2 } + x \\right)\\cdot 1 \\operatorname{ cos } \\left( x \\right)$$"
      ],
      "text/plain": [
       "Sum(Product(Sum(Product(Number(3),Product(Number(1),Product(Number(2),Power(Variable(\"x\"),Number(1))))),Number(1)),Apply(Function(\"sin\"),Variable(\"x\"))),Product(Sum(Product(Number(3),Power(Variable(\"x\"),Number(2))),Variable(\"x\")),Product(Number(1),Apply(Function(\"cos\"),Variable(\"x\")))))"
      ]
     },
     "execution_count": 123,
     "metadata": {},
     "output_type": "execute_result"
    }
   ],
   "source": [
    "f_expression.derivative(X)"
   ]
  },
  {
   "cell_type": "code",
   "execution_count": 124,
   "metadata": {},
   "outputs": [
    {
     "data": {
      "text/latex": [
       "$$\\left( 3x ^ { 2 } + x \\right) \\operatorname{ sin } \\left( x \\right)$$"
      ],
      "text/plain": [
       "Product(Sum(Product(Number(3),Power(Variable(\"x\"),Number(2))),Variable(\"x\")),Apply(Function(\"sin\"),Variable(\"x\")))"
      ]
     },
     "execution_count": 124,
     "metadata": {},
     "output_type": "execute_result"
    }
   ],
   "source": [
    "f_expression"
   ]
  },
  {
   "cell_type": "code",
   "execution_count": 125,
   "metadata": {},
   "outputs": [
    {
     "data": {
      "text/plain": [
       "y*(x + 3)"
      ]
     },
     "execution_count": 125,
     "metadata": {},
     "output_type": "execute_result"
    }
   ],
   "source": [
    "from sympy import *\n",
    "from sympy.core.core import *\n",
    "\n",
    "Mul(Symbol('y'),Add(3,Symbol('x')))"
   ]
  },
  {
   "cell_type": "code",
   "execution_count": 126,
   "metadata": {},
   "outputs": [
    {
     "data": {
      "text/plain": [
       "y*(x + 3)"
      ]
     },
     "execution_count": 126,
     "metadata": {},
     "output_type": "execute_result"
    }
   ],
   "source": [
    "y = Symbol('y')\n",
    "x = Symbol('x')\n",
    "y*(3+x)"
   ]
  },
  {
   "cell_type": "code",
   "execution_count": 127,
   "metadata": {},
   "outputs": [
    {
     "data": {
      "text/plain": [
       "4*y"
      ]
     },
     "execution_count": 127,
     "metadata": {},
     "output_type": "execute_result"
    }
   ],
   "source": [
    "y*(3+x).subs(x,1)"
   ]
  },
  {
   "cell_type": "code",
   "execution_count": 128,
   "metadata": {},
   "outputs": [
    {
     "data": {
      "text/plain": [
       "2*x"
      ]
     },
     "execution_count": 128,
     "metadata": {},
     "output_type": "execute_result"
    }
   ],
   "source": [
    "(x**2).diff(x)"
   ]
  },
  {
   "cell_type": "code",
   "execution_count": 129,
   "metadata": {},
   "outputs": [
    {
     "data": {
      "text/plain": [
       "-log(sin(x)**2 - 1)/2"
      ]
     },
     "execution_count": 129,
     "metadata": {},
     "output_type": "execute_result"
    }
   ],
   "source": [
    "integrate(tan(x))"
   ]
  },
  {
   "cell_type": "code",
   "execution_count": 130,
   "metadata": {},
   "outputs": [
    {
     "data": {
      "text/plain": [
       "x**3"
      ]
     },
     "execution_count": 130,
     "metadata": {},
     "output_type": "execute_result"
    }
   ],
   "source": [
    "(3*x**2).integrate(x)"
   ]
  },
  {
   "cell_type": "code",
   "execution_count": 131,
   "metadata": {},
   "outputs": [
    {
     "data": {
      "text/plain": [
       "-4.905*t**2"
      ]
     },
     "execution_count": 131,
     "metadata": {},
     "output_type": "execute_result"
    }
   ],
   "source": [
    "t = Symbol('t')\n",
    "(-9.81*t).integrate(t)"
   ]
  },
  {
   "cell_type": "code",
   "execution_count": 132,
   "metadata": {},
   "outputs": [
    {
     "data": {
      "text/plain": [
       "-log(sin(x)**2 - 1)/2"
      ]
     },
     "execution_count": 132,
     "metadata": {},
     "output_type": "execute_result"
    }
   ],
   "source": [
    "integrate(tan(x),x)"
   ]
  },
  {
   "cell_type": "code",
   "execution_count": 133,
   "metadata": {},
   "outputs": [
    {
     "data": {
      "text/plain": [
       "sympy.core.add.Add"
      ]
     },
     "execution_count": 133,
     "metadata": {},
     "output_type": "execute_result"
    }
   ],
   "source": [
    "x = Symbol('x')\n",
    "type(3+x)"
   ]
  },
  {
   "cell_type": "code",
   "execution_count": 134,
   "metadata": {},
   "outputs": [],
   "source": [
    "import sympy\n",
    "from sympy.core.core import *"
   ]
  },
  {
   "cell_type": "code",
   "execution_count": 135,
   "metadata": {},
   "outputs": [
    {
     "data": {
      "text/plain": [
       "sympy.core.add.Add"
      ]
     },
     "execution_count": 135,
     "metadata": {},
     "output_type": "execute_result"
    }
   ],
   "source": [
    "Add"
   ]
  },
  {
   "cell_type": "code",
   "execution_count": 136,
   "metadata": {},
   "outputs": [
    {
     "data": {
      "text/plain": [
       "x + 3"
      ]
     },
     "execution_count": 136,
     "metadata": {},
     "output_type": "execute_result"
    }
   ],
   "source": [
    "Add(3,x)"
   ]
  },
  {
   "cell_type": "code",
   "execution_count": 137,
   "metadata": {},
   "outputs": [
    {
     "data": {
      "text/plain": [
       "2*x + 6"
      ]
     },
     "execution_count": 137,
     "metadata": {},
     "output_type": "execute_result"
    }
   ],
   "source": [
    "Mul(2,Add(x,3))"
   ]
  },
  {
   "cell_type": "code",
   "execution_count": 138,
   "metadata": {},
   "outputs": [
    {
     "data": {
      "text/plain": [
       "x**3/3"
      ]
     },
     "execution_count": 138,
     "metadata": {},
     "output_type": "execute_result"
    }
   ],
   "source": [
    "(x**2).integrate(x)"
   ]
  },
  {
   "cell_type": "code",
   "execution_count": 139,
   "metadata": {},
   "outputs": [
    {
     "data": {
      "text/plain": [
       "x*sin(x) + cos(x)"
      ]
     },
     "execution_count": 139,
     "metadata": {},
     "output_type": "execute_result"
    }
   ],
   "source": [
    "(x*cos(x)).integrate(x)"
   ]
  },
  {
   "cell_type": "code",
   "execution_count": 140,
   "metadata": {},
   "outputs": [],
   "source": [
    "zero = (x - x)"
   ]
  },
  {
   "cell_type": "code",
   "execution_count": 141,
   "metadata": {},
   "outputs": [
    {
     "data": {
      "text/plain": [
       "0"
      ]
     },
     "execution_count": 141,
     "metadata": {},
     "output_type": "execute_result"
    }
   ],
   "source": [
    "zero.integrate(x)"
   ]
  },
  {
   "cell_type": "code",
   "execution_count": 142,
   "metadata": {},
   "outputs": [
    {
     "data": {
      "text/plain": [
       "<module 'sympy.core.core' from 'C:\\\\Users\\\\Paul\\\\Anaconda3\\\\lib\\\\site-packages\\\\sympy\\\\core\\\\core.py'>"
      ]
     },
     "execution_count": 142,
     "metadata": {},
     "output_type": "execute_result"
    }
   ],
   "source": [
    "sympy.core"
   ]
  },
  {
   "cell_type": "code",
   "execution_count": 143,
   "metadata": {},
   "outputs": [
    {
     "data": {
      "text/plain": [
       "sympy.core.numbers.Zero"
      ]
     },
     "execution_count": 143,
     "metadata": {},
     "output_type": "execute_result"
    }
   ],
   "source": [
    "type(x-x)"
   ]
  },
  {
   "cell_type": "code",
   "execution_count": 144,
   "metadata": {},
   "outputs": [
    {
     "ename": "AttributeError",
     "evalue": "module 'sympy.core.core' has no attribute 'numbers'",
     "output_type": "error",
     "traceback": [
      "\u001b[1;31m---------------------------------------------------------------------------\u001b[0m",
      "\u001b[1;31mAttributeError\u001b[0m                            Traceback (most recent call last)",
      "\u001b[1;32m<ipython-input-144-b70afc1a9508>\u001b[0m in \u001b[0;36m<module>\u001b[1;34m()\u001b[0m\n\u001b[1;32m----> 1\u001b[1;33m \u001b[0msympy\u001b[0m\u001b[1;33m.\u001b[0m\u001b[0mcore\u001b[0m\u001b[1;33m.\u001b[0m\u001b[0mnumbers\u001b[0m\u001b[1;33m.\u001b[0m\u001b[0mZero\u001b[0m\u001b[1;33m\u001b[0m\u001b[0m\n\u001b[0m",
      "\u001b[1;31mAttributeError\u001b[0m: module 'sympy.core.core' has no attribute 'numbers'"
     ]
    }
   ],
   "source": [
    "sympy.core.numbers.Zero"
   ]
  },
  {
   "cell_type": "code",
   "execution_count": 145,
   "metadata": {},
   "outputs": [
    {
     "data": {
      "text/plain": [
       "0"
      ]
     },
     "execution_count": 145,
     "metadata": {},
     "output_type": "execute_result"
    }
   ],
   "source": [
    "Integer(0).integrate(x)"
   ]
  },
  {
   "cell_type": "code",
   "execution_count": null,
   "metadata": {},
   "outputs": [],
   "source": []
  },
  {
   "cell_type": "code",
   "execution_count": null,
   "metadata": {},
   "outputs": [],
   "source": []
  },
  {
   "cell_type": "code",
   "execution_count": null,
   "metadata": {},
   "outputs": [],
   "source": []
  },
  {
   "cell_type": "code",
   "execution_count": 65,
   "metadata": {},
   "outputs": [
    {
     "ename": "NameError",
     "evalue": "name 'variables' is not defined",
     "output_type": "error",
     "traceback": [
      "\u001b[1;31m---------------------------------------------------------------------------\u001b[0m",
      "\u001b[1;31mNameError\u001b[0m                                 Traceback (most recent call last)",
      "\u001b[1;32m<ipython-input-65-54fe97bd6546>\u001b[0m in \u001b[0;36m<module>\u001b[1;34m()\u001b[0m\n\u001b[1;32m----> 1\u001b[1;33m \u001b[0mvariables\u001b[0m\u001b[1;33m\u001b[0m\u001b[0m\n\u001b[0m",
      "\u001b[1;31mNameError\u001b[0m: name 'variables' is not defined"
     ]
    }
   ],
   "source": [
    "variables"
   ]
  },
  {
   "cell_type": "code",
   "execution_count": 82,
   "metadata": {},
   "outputs": [],
   "source": [
    "code = \"lambda {}:{}\".format(\n",
    "    \", \".join(sorted(distinct_variables(3*x**y))),\n",
    "    \"3*x**y\")\n",
    "f = eval(code)"
   ]
  },
  {
   "cell_type": "code",
   "execution_count": 83,
   "metadata": {},
   "outputs": [
    {
     "data": {
      "text/plain": [
       "24"
      ]
     },
     "execution_count": 83,
     "metadata": {},
     "output_type": "execute_result"
    }
   ],
   "source": [
    "f(2,3)"
   ]
  },
  {
   "cell_type": "code",
   "execution_count": 140,
   "metadata": {},
   "outputs": [],
   "source": [
    "def distinct_functions(exp):\n",
    "    if isinstance(exp, Variable):\n",
    "        return set()\n",
    "    elif isinstance(exp, Number):\n",
    "        return set()\n",
    "    elif isinstance(exp, Sum):\n",
    "        return set().union(*[distinct_functions(exp) for exp in exp.exps])\n",
    "    elif isinstance(exp, Product):\n",
    "        return distinct_functions(exp.exp1).union(distinct_functions(exp.exp2))\n",
    "    elif isinstance(exp, Power):\n",
    "        return distinct_functions(exp.base).union(distinct_functions(exp.exponent))\n",
    "    elif isinstance(exp, Apply):\n",
    "        return set([exp.function.name]).union(distinct_functions(exp.argument))\n",
    "    else:\n",
    "        raise TypeError(\"Not a valid expression.\")"
   ]
  },
  {
   "cell_type": "code",
   "execution_count": 141,
   "metadata": {},
   "outputs": [
    {
     "data": {
      "text/plain": [
       "{'cos', 'sin'}"
      ]
     },
     "execution_count": 141,
     "metadata": {},
     "output_type": "execute_result"
    }
   ],
   "source": [
    "distinct_functions(Sin(x)*Cos(x))"
   ]
  },
  {
   "cell_type": "code",
   "execution_count": 143,
   "metadata": {},
   "outputs": [
    {
     "data": {
      "text/plain": [
       "'(x) ** (2)'"
      ]
     },
     "execution_count": 143,
     "metadata": {},
     "output_type": "execute_result"
    }
   ],
   "source": [
    "Power(Variable(\"x\"),Number(2))._python_expr()"
   ]
  },
  {
   "cell_type": "code",
   "execution_count": 144,
   "metadata": {},
   "outputs": [
    {
     "data": {
      "text/plain": [
       "9"
      ]
     },
     "execution_count": 144,
     "metadata": {},
     "output_type": "execute_result"
    }
   ],
   "source": [
    "Power(Variable(\"x\"),Number(2)).python_function(x=3)"
   ]
  },
  {
   "cell_type": "code",
   "execution_count": 145,
   "metadata": {},
   "outputs": [],
   "source": [
    "def contains_sum(exp):\n",
    "    if isinstance(exp, Variable):\n",
    "        return False\n",
    "    elif isinstance(exp, Number):\n",
    "        return False\n",
    "    elif isinstance(exp, Sum):\n",
    "        return True\n",
    "    elif isinstance(exp, Product):\n",
    "        return contains_sum(exp.exp1) or contains_sum(exp.exp2)\n",
    "    elif isinstance(exp, Power):\n",
    "        return contains_sum(exp.base) or contains_sum(exp.exponent)\n",
    "    elif isinstance(exp, Apply):\n",
    "        return contains_sum(exp.argument)\n",
    "    else:\n",
    "        raise TypeError(\"Not a valid expression.\")"
   ]
  },
  {
   "cell_type": "code",
   "execution_count": 146,
   "metadata": {},
   "outputs": [
    {
     "data": {
      "text/plain": [
       "True"
      ]
     },
     "execution_count": 146,
     "metadata": {},
     "output_type": "execute_result"
    }
   ],
   "source": [
    "contains_sum(x+y)"
   ]
  },
  {
   "cell_type": "code",
   "execution_count": 147,
   "metadata": {},
   "outputs": [
    {
     "data": {
      "text/plain": [
       "True"
      ]
     },
     "execution_count": 147,
     "metadata": {},
     "output_type": "execute_result"
    }
   ],
   "source": [
    "contains_sum(x**(y+z))"
   ]
  },
  {
   "cell_type": "code",
   "execution_count": 149,
   "metadata": {},
   "outputs": [
    {
     "data": {
      "text/plain": [
       "False"
      ]
     },
     "execution_count": 149,
     "metadata": {},
     "output_type": "execute_result"
    }
   ],
   "source": [
    "contains_sum(x*3*Cos(x))"
   ]
  },
  {
   "cell_type": "code",
   "execution_count": 151,
   "metadata": {},
   "outputs": [
    {
     "data": {
      "text/latex": [
       "$$x ^ { 2 }\\operatorname{ sin } \\left( y \\right)$$"
      ],
      "text/plain": [
       "Product(Power(Variable(\"x\"),Number(2)),Apply(Function(\"sin\"),Variable(\"y\")))"
      ]
     },
     "execution_count": 151,
     "metadata": {},
     "output_type": "execute_result"
    }
   ],
   "source": [
    "Product(Power(Variable(\"x\"),Number(2)),Apply(Function(\"sin\"),Variable(\"y\")))"
   ]
  },
  {
   "cell_type": "code",
   "execution_count": 174,
   "metadata": {},
   "outputs": [],
   "source": [
    "def derivative_at_point(f,x,dx=1e-6):\n",
    "    return secant_slope(f,x-dx,x+dx)"
   ]
  },
  {
   "cell_type": "code",
   "execution_count": 175,
   "metadata": {},
   "outputs": [],
   "source": [
    "def derivative(f, dx=1e-6):\n",
    "    return lambda x: derivative_at_point(f,x,dx=dx)"
   ]
  },
  {
   "cell_type": "code",
   "execution_count": 178,
   "metadata": {},
   "outputs": [
    {
     "data": {
      "image/png": "[encoded data removed]",
      "text/plain": [
       "<Figure size 432x288 with 1 Axes>"
      ]
     },
     "metadata": {
      "needs_background": "light"
     },
     "output_type": "display_data"
    }
   ],
   "source": [
    "def p(x):\n",
    "    return x**5\n",
    "plot_function(derivative(p), 0, 1)\n",
    "plot_function(lambda x: 5*x**4, 0, 1)"
   ]
  },
  {
   "cell_type": "code",
   "execution_count": 184,
   "metadata": {},
   "outputs": [
    {
     "data": {
      "text/plain": [
       "True"
      ]
     },
     "execution_count": 184,
     "metadata": {},
     "output_type": "execute_result"
    }
   ],
   "source": [
    "x = Variable(\"x\")\n",
    "y = Variable(\"y\")\n",
    "z = Variable(\"z\")\n",
    "\"x\" in distinct_variables(x+y**z)"
   ]
  },
  {
   "cell_type": "code",
   "execution_count": 198,
   "metadata": {},
   "outputs": [
    {
     "data": {
      "text/plain": [
       "False"
      ]
     },
     "execution_count": 198,
     "metadata": {},
     "output_type": "execute_result"
    }
   ],
   "source": [
    "contains(x+y**z, a)"
   ]
  },
  {
   "cell_type": "code",
   "execution_count": null,
   "metadata": {},
   "outputs": [],
   "source": []
  }
 ],
 "metadata": {
  "kernelspec": {
   "display_name": "Python 3",
   "language": "python",
   "name": "python3"
  },
  "language_info": {
   "codemirror_mode": {
    "name": "ipython",
    "version": 3
   },
   "file_extension": ".py",
   "mimetype": "text/x-python",
   "name": "python",
   "nbconvert_exporter": "python",
   "pygments_lexer": "ipython3",
   "version": "3.7.0"
  }
 },
 "nbformat": 4,
 "nbformat_minor": 2
}
