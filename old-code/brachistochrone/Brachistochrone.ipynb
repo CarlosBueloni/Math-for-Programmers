{
 "cells": [
  {
   "cell_type": "code",
   "execution_count": 1,
   "metadata": {},
   "outputs": [],
   "source": [
    "def add(u,v):\n",
    "    return tuple((ui + vi) for (ui,vi) in zip(u,v))\n",
    "\n",
    "def subtract(u,v):\n",
    "    return tuple((ui - vi) for (ui,vi) in zip(u,v))\n",
    "\n",
    "def scale(r,u):\n",
    "    return [r*ui for ui in u]\n",
    "\n",
    "def incr(i,x,dx):\n",
    "    return tuple(x+dx if i==j else x for (j,x) in enumerate(x))\n",
    "\n",
    "def pseudograd(f,x):\n",
    "    dx = 1e-4\n",
    "    grad = [((f(incr(i,x,dx)) - f(incr(i,x,-dx)))/(2*dx)) for i in range(0,len(x))]\n",
    "    return grad"
   ]
  },
  {
   "cell_type": "code",
   "execution_count": 2,
   "metadata": {},
   "outputs": [],
   "source": [
    "def sumsq(x):\n",
    "    return x[0]**2 + x[1]**2"
   ]
  },
  {
   "cell_type": "code",
   "execution_count": 3,
   "metadata": {},
   "outputs": [
    {
     "data": {
      "text/plain": [
       "[3.9999999999995595, 3.9999999999995595]"
      ]
     },
     "execution_count": 3,
     "metadata": {},
     "output_type": "execute_result"
    }
   ],
   "source": [
    "pseudograd(sumsq,(2,2))"
   ]
  },
  {
   "cell_type": "code",
   "execution_count": 4,
   "metadata": {},
   "outputs": [],
   "source": [
    "def minimize(f,guess=(0,0)):\n",
    "    learning_rate = 0.1\n",
    "    step = scale(learning_rate,pseudograd(f, guess))\n",
    "    nxt = subtract(guess,step)\n",
    "    if abs(f(nxt)-f(guess)) < 1e-10:\n",
    "        return nxt\n",
    "    else:\n",
    "        return minimize(f,nxt)"
   ]
  },
  {
   "cell_type": "code",
   "execution_count": 11,
   "metadata": {},
   "outputs": [
    {
     "data": {
      "text/plain": [
       "(9.134385233321176e-06, 9.134385233321176e-06)"
      ]
     },
     "execution_count": 11,
     "metadata": {},
     "output_type": "execute_result"
    }
   ],
   "source": [
    "minimize(lambda x:x[0]**2+x[1]**2,(1,1))"
   ]
  },
  {
   "cell_type": "code",
   "execution_count": 12,
   "metadata": {},
   "outputs": [],
   "source": [
    "def derivative(f,x):\n",
    "    h = 1e-4\n",
    "    return (f(x+h)-f(x-h))/(2*h)"
   ]
  },
  {
   "cell_type": "code",
   "execution_count": 13,
   "metadata": {},
   "outputs": [
    {
     "data": {
      "text/plain": [
       "12.00000001000845"
      ]
     },
     "execution_count": 13,
     "metadata": {},
     "output_type": "execute_result"
    }
   ],
   "source": [
    "derivative(lambda x:x**3,2)"
   ]
  },
  {
   "cell_type": "code",
   "execution_count": 14,
   "metadata": {},
   "outputs": [],
   "source": [
    "from math import *"
   ]
  },
  {
   "cell_type": "code",
   "execution_count": 15,
   "metadata": {},
   "outputs": [],
   "source": [
    "def slope_cos(f,x):\n",
    "    return cos(atan2(derivative(f,x),1))\n",
    "def slope_sin(f,x):\n",
    "    return -sin(atan2(derivative(f,x),1))"
   ]
  },
  {
   "cell_type": "code",
   "execution_count": 16,
   "metadata": {},
   "outputs": [],
   "source": [
    "def speed(ramp,x,initial_position=0):\n",
    "    return sqrt(2*9.81*(ramp(initial_position)-ramp(x)))\n",
    "\n",
    "def acceleration(ramp,x):\n",
    "    return 9.81 * slope_sin(ramp,x)"
   ]
  },
  {
   "cell_type": "code",
   "execution_count": 17,
   "metadata": {},
   "outputs": [],
   "source": [
    "def linear_ramp(x):\n",
    "    return 1-x"
   ]
  },
  {
   "cell_type": "code",
   "execution_count": 122,
   "metadata": {},
   "outputs": [],
   "source": [
    "def descend(ramp,x=0,t=0,endx=1):\n",
    "    v = (0,0)\n",
    "    y = ramp(0)\n",
    "    while x < endx and t < 10.00:\n",
    "#         print(t,x)\n",
    "        dt = 1e-4\n",
    "        mag_dv = (acceleration(ramp,x)*dt)\n",
    "        dv = scale(mag_dv,(slope_cos(ramp,x), slope_sin(ramp,x)))\n",
    "        v = add(v,dv)\n",
    "        vx = v[0]\n",
    "        dx = vx * dt\n",
    "        dy = v[1]*dt\n",
    "        if dx < 0:\n",
    "            raise Exception('moved backward!',v,dt,dx)\n",
    "        else:\n",
    "            x = x+dx\n",
    "            y = y+dy\n",
    "            t = t+dt\n",
    "    return (t,x,y,vx)\n",
    "        \n",
    "    "
   ]
  },
  {
   "cell_type": "code",
   "execution_count": 123,
   "metadata": {},
   "outputs": [
    {
     "data": {
      "text/plain": [
       "1"
      ]
     },
     "execution_count": 123,
     "metadata": {},
     "output_type": "execute_result"
    }
   ],
   "source": [
    "linear_ramp(0)"
   ]
  },
  {
   "cell_type": "code",
   "execution_count": 124,
   "metadata": {},
   "outputs": [
    {
     "data": {
      "text/plain": [
       "0.0"
      ]
     },
     "execution_count": 124,
     "metadata": {},
     "output_type": "execute_result"
    }
   ],
   "source": [
    "speed(linear_ramp,0)"
   ]
  },
  {
   "cell_type": "code",
   "execution_count": 125,
   "metadata": {},
   "outputs": [
    {
     "data": {
      "text/plain": [
       "6.93671752343965"
      ]
     },
     "execution_count": 125,
     "metadata": {},
     "output_type": "execute_result"
    }
   ],
   "source": [
    "acceleration(linear_ramp,0)"
   ]
  },
  {
   "cell_type": "code",
   "execution_count": 126,
   "metadata": {},
   "outputs": [
    {
     "data": {
      "text/plain": [
       "3.1320919526731656"
      ]
     },
     "execution_count": 126,
     "metadata": {},
     "output_type": "execute_result"
    }
   ],
   "source": [
    "sqrt(2*9.81) * sqrt(2) / 2"
   ]
  },
  {
   "cell_type": "code",
   "execution_count": 127,
   "metadata": {},
   "outputs": [
    {
     "data": {
      "text/plain": [
       "(0.638599999999946, 1.0003105435499888, 2.0003105435499005, 3.1323330000002447)"
      ]
     },
     "execution_count": 127,
     "metadata": {},
     "output_type": "execute_result"
    }
   ],
   "source": [
    "descend(linear_ramp,x=0)"
   ]
  },
  {
   "cell_type": "code",
   "execution_count": 128,
   "metadata": {},
   "outputs": [
    {
     "data": {
      "text/plain": [
       "0.638550856814101"
      ]
     },
     "execution_count": 128,
     "metadata": {},
     "output_type": "execute_result"
    }
   ],
   "source": [
    "sqrt(2 * sqrt(2) / (9.81*sin(pi/4)))"
   ]
  },
  {
   "cell_type": "code",
   "execution_count": 129,
   "metadata": {},
   "outputs": [
    {
     "data": {
      "text/plain": [
       "3.1320919526731656"
      ]
     },
     "execution_count": 129,
     "metadata": {},
     "output_type": "execute_result"
    }
   ],
   "source": [
    "sqrt(2*9.81)*cos(pi/4)"
   ]
  },
  {
   "cell_type": "code",
   "execution_count": 131,
   "metadata": {},
   "outputs": [
    {
     "data": {
      "text/plain": [
       "(0.6894999999999404, 1.0000689146556354, 2.6629809970685647, 2.80967845397424)"
      ]
     },
     "execution_count": 131,
     "metadata": {},
     "output_type": "execute_result"
    }
   ],
   "source": [
    "descend(lambda x:(x-1)**2)"
   ]
  },
  {
   "cell_type": "code",
   "execution_count": 132,
   "metadata": {},
   "outputs": [
    {
     "data": {
      "text/plain": [
       "(0.6408999999999457, 1.0001844562648343, 1.4416974486768783, 3.128981900483537)"
      ]
     },
     "execution_count": 132,
     "metadata": {},
     "output_type": "execute_result"
    }
   ],
   "source": [
    "descend(lambda x:cos(x+1))"
   ]
  },
  {
   "cell_type": "code",
   "execution_count": 133,
   "metadata": {},
   "outputs": [
    {
     "data": {
      "text/plain": [
       "(0.638599999999946, 1.0003105435499888, 3.000310543549909, 3.1323330000002447)"
      ]
     },
     "execution_count": 133,
     "metadata": {},
     "output_type": "execute_result"
    }
   ],
   "source": [
    "descend(lambda x:2-x)"
   ]
  },
  {
   "cell_type": "code",
   "execution_count": 90,
   "metadata": {},
   "outputs": [
    {
     "data": {
      "text/plain": [
       "(0.6395999999999459, 1.0001731666916556, 3.0836369481344845)"
      ]
     },
     "execution_count": 90,
     "metadata": {},
     "output_type": "execute_result"
    }
   ],
   "source": [
    "descend(lambda x:-sin(x))"
   ]
  },
  {
   "cell_type": "code",
   "execution_count": 91,
   "metadata": {},
   "outputs": [],
   "source": [
    "def plot_function(xmin,xmax,f):\n",
    "    xs = np.linspace(xmin,xmax,100)\n",
    "    ys = [f(x) for x in xs]\n",
    "    plt.plot(xs,ys)"
   ]
  },
  {
   "cell_type": "code",
   "execution_count": 120,
   "metadata": {
    "scrolled": true
   },
   "outputs": [
    {
     "data": {
      "text/plain": [
       "(1.3638999999998662, 1.000015188403052, 1.155741906882981)"
      ]
     },
     "execution_count": 120,
     "metadata": {},
     "output_type": "execute_result"
    },
    {
     "data": {
      "image/png": "[encoded data removed]",
      "text/plain": [
       "<Figure size 432x288 with 1 Axes>"
      ]
     },
     "metadata": {
      "needs_background": "light"
     },
     "output_type": "display_data"
    }
   ],
   "source": [
    "import numpy as np\n",
    "import matplotlib.pyplot as plt\n",
    "def circ(x):\n",
    "    return 1 - sqrt(1-(x-0.99)**2)\n",
    "plot_function(0,1,lambda x:-sin(x))\n",
    "plot_function(0,1,lambda x:1-x)\n",
    "plot_function(0,1,lambda x:(x-1)**2)\n",
    "\n",
    "\n",
    "plot_function(0,1,lambda x: (x-1)**20)\n",
    "# descend(circ)\n",
    "descend(lambda x:(x-1)**20)"
   ]
  },
  {
   "cell_type": "code",
   "execution_count": 134,
   "metadata": {},
   "outputs": [
    {
     "data": {
      "text/plain": [
       "4.4294469180700204"
      ]
     },
     "execution_count": 134,
     "metadata": {},
     "output_type": "execute_result"
    }
   ],
   "source": [
    "sqrt(2*9.81)"
   ]
  },
  {
   "cell_type": "markdown",
   "metadata": {},
   "source": [
    "$$ d = \\int_0^t v(t) \\, dt$$\n",
    "$$ v(t) = v(0) + a\\cdot t$$\n",
    "$$ d = \\int_0^t (v(0) + a\\cdot t) \\, dt $$\n",
    "$$ d = v(0)\\cdot t + \\frac{1}{2}at^2$$\n",
    "$$ d = (v(0) + \\frac{1}{2} a t) t$$\n",
    "\n",
    "$$"
   ]
  },
  {
   "cell_type": "code",
   "execution_count": null,
   "metadata": {},
   "outputs": [],
   "source": [
    "def time(v1,a,distance):\n",
    "    "
   ]
  }
 ],
 "metadata": {
  "kernelspec": {
   "display_name": "Python 3",
   "language": "python",
   "name": "python3"
  }
 },
 "nbformat": 4,
 "nbformat_minor": 2
}
